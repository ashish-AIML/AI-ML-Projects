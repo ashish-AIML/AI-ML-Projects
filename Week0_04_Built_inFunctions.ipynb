{
  "nbformat": 4,
  "nbformat_minor": 0,
  "metadata": {
    "colab": {
      "name": "Week0-04-Built-inFunctions.ipynb",
      "provenance": [],
      "include_colab_link": true
    },
    "kernelspec": {
      "display_name": "Python 3",
      "language": "python",
      "name": "python3"
    }
  },
  "cells": [
    {
      "cell_type": "markdown",
      "metadata": {
        "id": "view-in-github",
        "colab_type": "text"
      },
      "source": [
        "<a href=\"https://colab.research.google.com/github/ashish-AIML/AI-ML-Projects/blob/master/Week0_04_Built_inFunctions.ipynb\" target=\"_parent\"><img src=\"https://colab.research.google.com/assets/colab-badge.svg\" alt=\"Open In Colab\"/></a>"
      ]
    },
    {
      "cell_type": "markdown",
      "metadata": {
        "id": "OHweo8f5NhN0",
        "colab_type": "text"
      },
      "source": [
        "# Advanced Certification in AIML\n",
        "## A Program by IIIT-H and TalentSprint\n",
        "### Introduction to Python\n",
        "#### Built in Functions\n",
        "Python comes with a nice set of built-in functions\n",
        "The complete set can be seen at:https://docs.python.org/3.6/library/functions.html\n",
        "We take a look at the most used ones here. We have clustered and classified them for better understanding."
      ]
    },
    {
      "cell_type": "markdown",
      "metadata": {
        "id": "vATgoqinNmsK",
        "colab_type": "text"
      },
      "source": [
        "### Setup Steps"
      ]
    },
    {
      "cell_type": "code",
      "metadata": {
        "id": "d4vYJsccNpfw",
        "colab_type": "code",
        "colab": {}
      },
      "source": [
        "#@title Please enter your registration id to start: (e.g. P181900101) { run: \"auto\", display-mode: \"form\" }\n",
        "Id = \"p181901605\" #@param {type:\"string\"}\n"
      ],
      "execution_count": 0,
      "outputs": []
    },
    {
      "cell_type": "code",
      "metadata": {
        "id": "qz49edpINppZ",
        "colab_type": "code",
        "colab": {}
      },
      "source": [
        "#@title Please enter your password (normally your phone number) to continue: { run: \"auto\", display-mode: \"form\" }\n",
        "password = \"9900013690\" #@param {type:\"string\"}\n"
      ],
      "execution_count": 0,
      "outputs": []
    },
    {
      "cell_type": "code",
      "metadata": {
        "id": "lQLvSAp1Np1c",
        "colab_type": "code",
        "cellView": "form",
        "outputId": "0285fcc5-3a11-456e-cf03-d3c01ef2e341",
        "colab": {
          "base_uri": "https://localhost:8080/",
          "height": 34
        }
      },
      "source": [
        "#@title Run this cell to complete the setup for this Notebook\n",
        "\n",
        "from IPython import get_ipython\n",
        "ipython = get_ipython()\n",
        "  \n",
        "notebook=\"BLR_M1W0_SUN_EXP_4\" #name of the notebook\n",
        "\n",
        "def setup():\n",
        "#  ipython.magic(\"sx pip3 install torch\")\n",
        "   \n",
        "   print (\"Setup completed successfully\")\n",
        "   return\n",
        "\n",
        "def submit_notebook():\n",
        "    \n",
        "    ipython.magic(\"notebook -e \"+ notebook + \".ipynb\")\n",
        "    \n",
        "    import requests, json, base64\n",
        "\n",
        "    url = \"https://dashboard.talentsprint.com/xp/app/save_notebook_attempts\"\n",
        "    if not submission_id:\n",
        "      data = {\"id\" : getId(), \"notebook\" : notebook, \"mobile\" : getPassword()}\n",
        "      r = requests.post(url, data = data)\n",
        "      r = json.loads(r.text)\n",
        "\n",
        "      if r[\"status\"] == \"Success\":\n",
        "          return r[\"record_id\"]\n",
        "      elif \"err\" in r:        \n",
        "        print(r[\"err\"])\n",
        "        return None        \n",
        "      else:\n",
        "        print (\"Something is wrong, the notebook will not be submitted for grading\")\n",
        "        return None\n",
        "\n",
        "    elif getComplexity() and getAdditional() and getConcepts():\n",
        "      f = open(notebook + \".ipynb\", \"rb\")\n",
        "      file_hash = base64.b64encode(f.read())\n",
        "\n",
        "      data = {\"complexity\" : Complexity, \"additional\" :Additional, \n",
        "              \"concepts\" : Concepts, \"record_id\" : submission_id, \n",
        "              \"id\" : Id, \"file_hash\" : file_hash, \"notebook\" : notebook}\n",
        "\n",
        "      r = requests.post(url, data = data)\n",
        "      print(\"Your submission is successful. Ref:\", submission_id)\n",
        "      return submission_id\n",
        "    else: submission_id\n",
        "    \n",
        "\n",
        "def getAdditional():\n",
        "  try:\n",
        "    if Additional: return Additional      \n",
        "    else: raise NameError('')\n",
        "  except NameError:\n",
        "    print (\"Please answer Additional Question\")\n",
        "    return None\n",
        "\n",
        "def getComplexity():\n",
        "  try:\n",
        "    return Complexity\n",
        "  except NameError:\n",
        "    print (\"Please answer Complexity Question\")\n",
        "    return None\n",
        "  \n",
        "def getConcepts():\n",
        "  try:\n",
        "    return Concepts\n",
        "  except NameError:\n",
        "    print (\"Please answer Concepts Question\")\n",
        "    return None\n",
        "\n",
        "def getId():\n",
        "  try: \n",
        "    return Id if Id else None\n",
        "  except NameError:\n",
        "    return None\n",
        "\n",
        "def getPassword():\n",
        "  try:\n",
        "    return password if password else None\n",
        "  except NameError:\n",
        "    return None\n",
        "\n",
        "submission_id = None\n",
        "### Setup \n",
        "if getPassword() and getId():\n",
        "  submission_id = submit_notebook()\n",
        "  if submission_id:\n",
        "    setup()\n",
        "  \n",
        "else:\n",
        "  print (\"Please complete Id and Password cells before running setup\")\n",
        "\n"
      ],
      "execution_count": 0,
      "outputs": [
        {
          "output_type": "stream",
          "text": [
            "Setup completed successfully\n"
          ],
          "name": "stdout"
        }
      ]
    },
    {
      "cell_type": "markdown",
      "metadata": {
        "id": "n5iT23CUNhN2",
        "colab_type": "text"
      },
      "source": [
        "#### Aggregate Functions\n",
        "* len(iterable)\n",
        "* max(iterable)\n",
        "* min(iterable)\n",
        "* sorted(iterable[, key][, reverse])\n",
        "* sum(iterable[, start])"
      ]
    },
    {
      "cell_type": "code",
      "metadata": {
        "id": "b8cHr-K1NhN4",
        "colab_type": "code",
        "outputId": "0eecc3d1-2752-4a89-d887-53f317b2e9a6",
        "colab": {
          "base_uri": "https://localhost:8080/",
          "height": 34
        }
      },
      "source": [
        "f = [1, 1, 2, 3, 5, 8, 13, 21, 34, 55, 89]\n",
        "g = [7, 12, -4, 17, 12, 11, 0, 9, 21, 6, 13]\n",
        "print(len(f), len(g))"
      ],
      "execution_count": 0,
      "outputs": [
        {
          "output_type": "stream",
          "text": [
            "11 11\n"
          ],
          "name": "stdout"
        }
      ]
    },
    {
      "cell_type": "code",
      "metadata": {
        "id": "wOlweV-WNhN8",
        "colab_type": "code",
        "outputId": "bf464eba-afe5-4fab-d073-38551bf613e8",
        "colab": {
          "base_uri": "https://localhost:8080/",
          "height": 35
        }
      },
      "source": [
        "print(max(f), max(g))"
      ],
      "execution_count": 0,
      "outputs": [
        {
          "output_type": "stream",
          "text": [
            "89 21\n"
          ],
          "name": "stdout"
        }
      ]
    },
    {
      "cell_type": "code",
      "metadata": {
        "id": "WSmPjGtpNhOA",
        "colab_type": "code",
        "outputId": "489faf83-98c7-4015-86c2-3a8c30f428a9",
        "colab": {
          "base_uri": "https://localhost:8080/",
          "height": 35
        }
      },
      "source": [
        "print(min(f), min(g))"
      ],
      "execution_count": 0,
      "outputs": [
        {
          "output_type": "stream",
          "text": [
            "1 -4\n"
          ],
          "name": "stdout"
        }
      ]
    },
    {
      "cell_type": "code",
      "metadata": {
        "id": "KFYRHHq-NhOE",
        "colab_type": "code",
        "outputId": "7d493591-dfa9-42d8-a582-24d4d838052a",
        "colab": {
          "base_uri": "https://localhost:8080/",
          "height": 35
        }
      },
      "source": [
        "print(list(sorted(g)))"
      ],
      "execution_count": 0,
      "outputs": [
        {
          "output_type": "stream",
          "text": [
            "[-4, 0, 6, 7, 9, 11, 12, 12, 13, 17, 21]\n"
          ],
          "name": "stdout"
        }
      ]
    },
    {
      "cell_type": "code",
      "metadata": {
        "id": "m-Ih3xHtNhOI",
        "colab_type": "code",
        "outputId": "aec80828-b5b4-4e3c-d72a-c4ed48f22466",
        "colab": {
          "base_uri": "https://localhost:8080/",
          "height": 35
        }
      },
      "source": [
        "print(sum(f), sum(g))"
      ],
      "execution_count": 0,
      "outputs": [
        {
          "output_type": "stream",
          "text": [
            "232 104\n"
          ],
          "name": "stdout"
        }
      ]
    },
    {
      "cell_type": "markdown",
      "metadata": {
        "id": "b55iUCSwNhOM",
        "colab_type": "text"
      },
      "source": [
        "#### Extended Boolean\n",
        "* all(iterable)\n",
        "* any(iterable)\n",
        "\n",
        "Think of these as **and**, **or** for lists of booleans  "
      ]
    },
    {
      "cell_type": "code",
      "metadata": {
        "id": "b3MyLBlVNhOO",
        "colab_type": "code",
        "outputId": "f685c1ba-9e02-452f-ae36-08a307d5bea1",
        "colab": {
          "base_uri": "https://localhost:8080/",
          "height": 53
        }
      },
      "source": [
        "x = [2 > 3, 5 < 7, False, \"Hello\" == \"World\"]\n",
        "print(all(x))\n",
        "print(any(x))"
      ],
      "execution_count": 0,
      "outputs": [
        {
          "output_type": "stream",
          "text": [
            "False\n",
            "True\n"
          ],
          "name": "stdout"
        }
      ]
    },
    {
      "cell_type": "markdown",
      "metadata": {
        "id": "RaMg-RS7NhOR",
        "colab_type": "text"
      },
      "source": [
        "#### Mathematical\n",
        " * abs()\n",
        " * divmod(number, divideBy)\n",
        " * pow(number, exponent)\n",
        " * round(floatVal[, places])"
      ]
    },
    {
      "cell_type": "code",
      "metadata": {
        "id": "24R8Yn2wNhOT",
        "colab_type": "code",
        "outputId": "f385529f-77b7-4940-9565-1f8e9fa0c4f8",
        "colab": {
          "base_uri": "https://localhost:8080/",
          "height": 53
        }
      },
      "source": [
        "print(abs(-7))\n",
        "print(abs(3+4j))"
      ],
      "execution_count": 0,
      "outputs": [
        {
          "output_type": "stream",
          "text": [
            "7\n",
            "5.0\n"
          ],
          "name": "stdout"
        }
      ]
    },
    {
      "cell_type": "code",
      "metadata": {
        "id": "l7lbAJDYNhOX",
        "colab_type": "code",
        "outputId": "d812a2f2-54bf-447d-f9cc-1b1114002861",
        "colab": {
          "base_uri": "https://localhost:8080/",
          "height": 53
        }
      },
      "source": [
        "print(divmod(17, 4))\n",
        "print(divmod(-17, 4))"
      ],
      "execution_count": 0,
      "outputs": [
        {
          "output_type": "stream",
          "text": [
            "(4, 1)\n",
            "(-5, 3)\n"
          ],
          "name": "stdout"
        }
      ]
    },
    {
      "cell_type": "code",
      "metadata": {
        "id": "gybj1c5fNhOe",
        "colab_type": "code",
        "outputId": "dfd78697-0cb7-4ca7-df2a-a84eddbf6b01",
        "colab": {
          "base_uri": "https://localhost:8080/",
          "height": 71
        }
      },
      "source": [
        "print(pow(3, 4))\n",
        "print(pow(3.2, 4))\n",
        "print(pow(4.3, -2.5))"
      ],
      "execution_count": 0,
      "outputs": [
        {
          "output_type": "stream",
          "text": [
            "81\n",
            "104.85760000000002\n",
            "0.026081277564651822\n"
          ],
          "name": "stdout"
        }
      ]
    },
    {
      "cell_type": "code",
      "metadata": {
        "id": "Yhd-oh1BNhOn",
        "colab_type": "code",
        "outputId": "6c08e2b5-2c5f-43b9-daf2-808400340b81",
        "colab": {
          "base_uri": "https://localhost:8080/",
          "height": 53
        }
      },
      "source": [
        "print(round(12.3/4.5, 2))\n",
        "print(round(12.3/4.5))"
      ],
      "execution_count": 0,
      "outputs": [
        {
          "output_type": "stream",
          "text": [
            "2.73\n",
            "3\n"
          ],
          "name": "stdout"
        }
      ]
    },
    {
      "cell_type": "markdown",
      "metadata": {
        "id": "OAhppKNQNhOt",
        "colab_type": "text"
      },
      "source": [
        "#### Constructors and Converters\n",
        " * ascii()\n",
        " * bin()\n",
        " * bool()\n",
        " * chr()\n",
        " * complex()\n",
        " * float()\n",
        " * hex()\n",
        " * int()\n",
        " * list()\n",
        " * oct()\n",
        " * ord()\n",
        " * set()\n",
        " * str()\n",
        " * tuple()"
      ]
    },
    {
      "cell_type": "markdown",
      "metadata": {
        "id": "YJ4KO74gNhOy",
        "colab_type": "text"
      },
      "source": [
        "#### Functional, Higher Order\n",
        "* filter\n",
        "* map\n",
        "* zip"
      ]
    },
    {
      "cell_type": "code",
      "metadata": {
        "id": "ffQZb04vNhO1",
        "colab_type": "code",
        "colab": {}
      },
      "source": [
        "f = [ 1,  1,  2,  3,  5,  8, 13, 21, 34, 55, 89]\n",
        "p = [ 2,  3,  5,  7, 11, 13, 17, 19, 23, 29, 31] "
      ],
      "execution_count": 0,
      "outputs": []
    },
    {
      "cell_type": "code",
      "metadata": {
        "id": "LypLgvS2NhO7",
        "colab_type": "code",
        "colab": {}
      },
      "source": [
        "def square(n):\n",
        "    return n * n\n",
        "def isEven(n):\n",
        "    return n % 2 == 0\n",
        "def isPowerOf2(n):\n",
        "    if n == 1: \n",
        "        return True\n",
        "    if n % 2 == 1:\n",
        "        return False\n",
        "    return isPowerOf2(n//2)"
      ],
      "execution_count": 0,
      "outputs": []
    },
    {
      "cell_type": "code",
      "metadata": {
        "id": "M5L0KOu3NhPB",
        "colab_type": "code",
        "outputId": "0a9c22ca-7701-4c48-f473-323c2dc8bcf7",
        "colab": {
          "base_uri": "https://localhost:8080/",
          "height": 68
        }
      },
      "source": [
        "print(list(filter(isEven, f)))\n",
        "print(list(filter(isEven, p)))\n",
        "print(list(filter(isPowerOf2, f)))"
      ],
      "execution_count": 0,
      "outputs": [
        {
          "output_type": "stream",
          "text": [
            "[2, 8, 34]\n",
            "[2]\n",
            "[1, 1, 2, 8]\n"
          ],
          "name": "stdout"
        }
      ]
    },
    {
      "cell_type": "code",
      "metadata": {
        "id": "RCTLWreGNhPH",
        "colab_type": "code",
        "outputId": "07be2006-689b-4a53-ecaf-539c387d72b2",
        "colab": {
          "base_uri": "https://localhost:8080/",
          "height": 51
        }
      },
      "source": [
        "print(list(map(square,f)))\n",
        "print(list(map(square, filter(isEven, f))))\n"
      ],
      "execution_count": 0,
      "outputs": [
        {
          "output_type": "stream",
          "text": [
            "[1, 1, 4, 9, 25, 64, 169, 441, 1156, 3025, 7921]\n",
            "[4, 64, 1156]\n"
          ],
          "name": "stdout"
        }
      ]
    },
    {
      "cell_type": "code",
      "metadata": {
        "id": "OnyjYcN4NhPL",
        "colab_type": "code",
        "colab": {}
      },
      "source": [
        "print(list(zip(f, p)))"
      ],
      "execution_count": 0,
      "outputs": []
    },
    {
      "cell_type": "code",
      "metadata": {
        "id": "gMhT9zlhNhPO",
        "colab_type": "code",
        "outputId": "3fd8cbfe-d07c-4783-81b6-b3228d1c8a95",
        "colab": {
          "base_uri": "https://localhost:8080/",
          "height": 35
        }
      },
      "source": [
        "grading = [\"Test\", \"Quiz\", \"Individual Lab\", \"Group Lab\", \"Hackathon\"]\n",
        "grades = [300, 60, 120, 60, 120]\n",
        "print(list(zip(grading, grades)))\n"
      ],
      "execution_count": 0,
      "outputs": [
        {
          "output_type": "stream",
          "text": [
            "[('Test', 300), ('Quiz', 60), ('Individual Lab', 120), ('Group Lab', 60), ('Hackathon', 120)]\n"
          ],
          "name": "stdout"
        }
      ]
    },
    {
      "cell_type": "markdown",
      "metadata": {
        "id": "c23tq5xkBFYs",
        "colab_type": "text"
      },
      "source": [
        ""
      ]
    },
    {
      "cell_type": "markdown",
      "metadata": {
        "id": "Igf7mPaON5hc",
        "colab_type": "text"
      },
      "source": [
        "### Please answer the questions below to complete the experiment:\n"
      ]
    },
    {
      "cell_type": "code",
      "metadata": {
        "id": "TnPuqU7_NhPS",
        "colab_type": "code",
        "colab": {}
      },
      "source": [
        "#@title How was the experiment? { run: \"auto\", form-width: \"500px\", display-mode: \"form\" }\n",
        "Complexity = \"\" #@param [\"Too Simple, I am wasting time\", \"Good, But Not Challenging for me\", \"Good and Challenging me\", \"Was Tough, but I did it\", \"Too Difficult for me\"]\n"
      ],
      "execution_count": 0,
      "outputs": []
    },
    {
      "cell_type": "code",
      "metadata": {
        "id": "SdAKTT1TNhPV",
        "colab_type": "code",
        "colab": {}
      },
      "source": [
        "#@title If it was very easy, what more you would have liked to have been added? If it was very difficult, what would you have liked to have been removed? { run: \"auto\", display-mode: \"form\" }\n",
        "Additional = \"\" #@param {type:\"string\"}"
      ],
      "execution_count": 0,
      "outputs": []
    },
    {
      "cell_type": "code",
      "metadata": {
        "id": "G9xTfNtxNhPY",
        "colab_type": "code",
        "colab": {}
      },
      "source": [
        "#@title Can you identify the concepts from the lecture which this experiment covered? { run: \"auto\", vertical-output: true, display-mode: \"form\" }\n",
        "Concepts = \"Yes\" #@param [\"Yes\", \"No\"]"
      ],
      "execution_count": 0,
      "outputs": []
    },
    {
      "cell_type": "code",
      "metadata": {
        "id": "yrIG5hQkNhPc",
        "colab_type": "code",
        "cellView": "form",
        "colab": {}
      },
      "source": [
        "#@title Run this cell to submit your notebook for grading { vertical-output: true }\n",
        "try:\n",
        "  if submission_id:\n",
        "      return_id = submit_notebook()\n",
        "      if return_id : submission_id =return_id\n",
        "  else:\n",
        "      print(\"Please complete the setup first.\")\n",
        "except NameError:\n",
        "  print (\"Please complete the setup first.\")"
      ],
      "execution_count": 0,
      "outputs": []
    }
  ]
}