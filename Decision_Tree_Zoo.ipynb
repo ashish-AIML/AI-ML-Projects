{
  "nbformat": 4,
  "nbformat_minor": 0,
  "metadata": {
    "colab": {
      "name": "Decision_Tree_Zoo.ipynb",
      "provenance": [],
      "collapsed_sections": [],
      "include_colab_link": true
    },
    "kernelspec": {
      "name": "python3",
      "display_name": "Python 3"
    }
  },
  "cells": [
    {
      "cell_type": "markdown",
      "metadata": {
        "id": "view-in-github",
        "colab_type": "text"
      },
      "source": [
        "<a href=\"https://colab.research.google.com/github/ashish-AIML/AI-ML-Projects/blob/master/Decision_Tree_Zoo.ipynb\" target=\"_parent\"><img src=\"https://colab.research.google.com/assets/colab-badge.svg\" alt=\"Open In Colab\"/></a>"
      ]
    },
    {
      "cell_type": "markdown",
      "metadata": {
        "id": "RkCHsOp1XkvK",
        "colab_type": "text"
      },
      "source": [
        "# Advanced Certification in AIML\n",
        "## A Program by IIIT-H and TalentSprint"
      ]
    },
    {
      "cell_type": "markdown",
      "metadata": {
        "id": "UvoALsCmXkvN",
        "colab_type": "text"
      },
      "source": [
        "The objective of this experiment is to understand Decision Tree."
      ]
    },
    {
      "cell_type": "markdown",
      "metadata": {
        "id": "Tq3P0m-2XkvP",
        "colab_type": "text"
      },
      "source": [
        "#### Decision Tree\n",
        "\n",
        "As the name says all about it, it is a tree which helps us by assisting us in decision-making. Used\n",
        "for both classification and regression, it is a very basic and important predictive learning algorithm.\n",
        "\n",
        "    1. It is different from others because it works intuitively i.e., taking decisions one-by-one.\n",
        "    2. Non-Parametric: Fast and efficient.\n",
        "\n",
        "It consists of nodes which have parent-child relationships"
      ]
    },
    {
      "cell_type": "markdown",
      "metadata": {
        "id": "kUS2_L4vXkvR",
        "colab_type": "text"
      },
      "source": [
        "The core algorithm for building decision trees called ID3 by J. R. Quinlan which employs a top-down, greedy search through the space of possible branches with no backtracking. ID3 uses Entropy and Information Gain to construct a decision tree. In ZeroR model there is no predictor, in OneR model we try to find the single best predictor, naive Bayesian includes all predictors using Bayes' rule and the independence assumptions between predictors but decision tree includes all predictors with the dependence assumptions between predictors."
      ]
    },
    {
      "cell_type": "markdown",
      "metadata": {
        "id": "PPJHqSyRvszr",
        "colab_type": "text"
      },
      "source": [
        "In this experiment we will be using a Zoo dataset. The \"type\" attribute appears to be the class attribute. Here is a breakdown of which animals are in which type:\n",
        "\n",
        "\n",
        "1 -- Mammals (41) aardvark, antelope, bear, boar, buffalo, calf, cavy, cheetah, deer, dolphin, elephant, fruitbat, giraffe, girl, goat, gorilla, hamster, hare, leopard, lion, lynx, mink, mole, mongoose, opossum, oryx, platypus, polecat, pony, porpoise, puma, pussycat, raccoon, reindeer, seal, sealion, squirrel, vampire, vole, wallaby,wolf \n",
        "\n",
        "2 -- Birds (20) chicken, crow, dove, duck, flamingo, gull, hawk, kiwi, lark, ostrich, parakeet, penguin, pheasant, rhea, skimmer, skua, sparrow, swan, vulture, wren \n",
        "\n",
        "3 -- Reptiles (5) pitviper, seasnake, slowworm, tortoise, tuatara \n",
        "\n",
        "4 -- Aquatic (13) bass, carp, catfish, chub, dogfish, haddock, herring, pike, piranha, seahorse, sole, stingray, tuna \n",
        "\n",
        "5 -- Amphibians (4) frog, frog, newt, toad \n",
        "\n",
        "6 -- Insects (8) flea, gnat, honeybee, housefly, ladybird, moth, termite, wasp \n",
        "\n",
        "7 -- Arthropods (10) clam, crab, crayfish, lobster, octopus, scorpion, seawasp, slug, starfish, worm\n",
        "\n"
      ]
    },
    {
      "cell_type": "markdown",
      "metadata": {
        "id": "ZcljNVM6XkvT",
        "colab_type": "text"
      },
      "source": [
        "### Keywords\n",
        "\n",
        "* Numpy\n",
        "* Pandas\n",
        "* ID3 Algorithm\n",
        "* Train, Test Split"
      ]
    },
    {
      "cell_type": "markdown",
      "metadata": {
        "id": "R7-uw-E1XkvV",
        "colab_type": "text"
      },
      "source": [
        "#### Expected Time : 60 min"
      ]
    },
    {
      "cell_type": "markdown",
      "metadata": {
        "id": "lb-lC3mFYV0O",
        "colab_type": "text"
      },
      "source": [
        "### Setup Steps"
      ]
    },
    {
      "cell_type": "code",
      "metadata": {
        "id": "BqeToHAJYAoO",
        "colab_type": "code",
        "colab": {}
      },
      "source": [
        "#@title Please enter your registration id to start: (e.g. P181900101) { run: \"auto\", display-mode: \"form\" }\n",
        "Id = \"\" #@param {type:\"string\"}\n"
      ],
      "execution_count": 0,
      "outputs": []
    },
    {
      "cell_type": "code",
      "metadata": {
        "id": "09E06aGHYyqw",
        "colab_type": "code",
        "colab": {}
      },
      "source": [
        "#@title Please enter your password (normally your phone number) to continue: { run: \"auto\", display-mode: \"form\" }\n",
        "password = \"\" #@param {type:\"string\"}\n"
      ],
      "execution_count": 0,
      "outputs": []
    },
    {
      "cell_type": "code",
      "metadata": {
        "id": "QKGUIUzQQPgh",
        "colab_type": "code",
        "cellView": "form",
        "outputId": "3161e10e-0d0e-49d6-9f0c-91bce9e9fced",
        "colab": {
          "base_uri": "https://localhost:8080/",
          "height": 33
        }
      },
      "source": [
        "#@title Run this cell to complete the setup for this Notebook\n",
        "\n",
        "from IPython import get_ipython\n",
        "ipython = get_ipython()\n",
        "  \n",
        "notebook=\"M0W2_EXP_1_Decision_Tree_Zoo\" #name of the notebook\n",
        "\n",
        "def setup():\n",
        "#  ipython.magic(\"sx pip3 install torch\")\n",
        "    ipython.magic(\"sx wget https://cdn.talentsprint.com/aiml/Experiment_related_data/Zoo_New.csv\")\n",
        "    ipython.magic(\"sx apt-get install graphviz\")\n",
        "    ipython.magic(\"sx pip install graphviz\")\n",
        "    print (\"Setup completed successfully\")\n",
        "    return\n",
        "\n",
        "def submit_notebook():\n",
        "    \n",
        "    ipython.magic(\"notebook -e \"+ notebook + \".ipynb\")\n",
        "    \n",
        "    import requests, json, base64, datetime\n",
        "\n",
        "    url = \"https://dashboard.talentsprint.com/xp/app/save_notebook_attempts\"\n",
        "    if not submission_id:\n",
        "      data = {\"id\" : getId(), \"notebook\" : notebook, \"mobile\" : getPassword()}\n",
        "      r = requests.post(url, data = data)\n",
        "      r = json.loads(r.text)\n",
        "\n",
        "      if r[\"status\"] == \"Success\":\n",
        "          return r[\"record_id\"]\n",
        "      elif \"err\" in r:        \n",
        "        print(r[\"err\"])\n",
        "        return None        \n",
        "      else:\n",
        "        print (\"Something is wrong, the notebook will not be submitted for grading\")\n",
        "        return None\n",
        "\n",
        "    elif getAnswer() and getComplexity() and getAdditional() and getConcepts():\n",
        "      f = open(notebook + \".ipynb\", \"rb\")\n",
        "      file_hash = base64.b64encode(f.read())\n",
        "\n",
        "      data = {\"complexity\" : Complexity, \"additional\" :Additional, \n",
        "              \"concepts\" : Concepts, \"record_id\" : submission_id, \n",
        "              \"answer\" : Answer, \"id\" : Id, \"file_hash\" : file_hash,\n",
        "              \"notebook\" : notebook}\n",
        "\n",
        "      r = requests.post(url, data = data)\n",
        "      r = json.loads(r.text)\n",
        "      print(\"Your submission is successful.\")\n",
        "      print(\"Ref Id:\", submission_id)\n",
        "      print(\"Date of submission: \", r[\"date\"])\n",
        "      print(\"Time of submission: \", r[\"time\"])\n",
        "      print(\"View your submissions: https://iiith-aiml.talentsprint.com/notebook_submissions\")\n",
        "      print(\"For any queries/discrepancies, please connect with mentors through the chat icon in LMS dashboard.\")\n",
        "      return submission_id\n",
        "    else: submission_id\n",
        "    \n",
        "\n",
        "def getAdditional():\n",
        "  try:\n",
        "    if Additional: return Additional      \n",
        "    else: raise NameError('')\n",
        "  except NameError:\n",
        "    print (\"Please answer Additional Question\")\n",
        "    return None\n",
        "\n",
        "def getComplexity():\n",
        "  try:\n",
        "    return Complexity\n",
        "  except NameError:\n",
        "    print (\"Please answer Complexity Question\")\n",
        "    return None\n",
        "  \n",
        "def getConcepts():\n",
        "  try:\n",
        "    return Concepts\n",
        "  except NameError:\n",
        "    print (\"Please answer Concepts Question\")\n",
        "    return None\n",
        "\n",
        "def getAnswer():\n",
        "  try:\n",
        "    return Answer\n",
        "  except NameError:\n",
        "    print (\"Please answer Question\")\n",
        "    return None\n",
        "\n",
        "def getId():\n",
        "  try: \n",
        "    return Id if Id else None\n",
        "  except NameError:\n",
        "    return None\n",
        "\n",
        "def getPassword():\n",
        "  try:\n",
        "    return password if password else None\n",
        "  except NameError:\n",
        "    return None\n",
        "\n",
        "submission_id = None\n",
        "### Setup \n",
        "if getPassword() and getId():\n",
        "  submission_id = submit_notebook()\n",
        "  if submission_id:\n",
        "    setup()\n",
        "  \n",
        "else:\n",
        "  print (\"Please complete Id and Password cells before running setup\")\n",
        "\n"
      ],
      "execution_count": 0,
      "outputs": [
        {
          "output_type": "stream",
          "text": [
            "Setup completed successfully\n"
          ],
          "name": "stdout"
        }
      ]
    },
    {
      "cell_type": "markdown",
      "metadata": {
        "id": "0XHuORe3XkvX",
        "colab_type": "text"
      },
      "source": [
        "#### Importing Required Packages"
      ]
    },
    {
      "cell_type": "code",
      "metadata": {
        "id": "Svq6M_C5XkvY",
        "colab_type": "code",
        "colab": {}
      },
      "source": [
        "import pandas as pd\n",
        "import numpy as np\n",
        "import graphviz\n",
        "from sklearn.tree import export_graphviz"
      ],
      "execution_count": 0,
      "outputs": []
    },
    {
      "cell_type": "markdown",
      "metadata": {
        "id": "CKwkj-L1Xkvf",
        "colab_type": "text"
      },
      "source": [
        "#### Loading Dataset"
      ]
    },
    {
      "cell_type": "code",
      "metadata": {
        "id": "ea9aOI8aXkvh",
        "colab_type": "code",
        "colab": {}
      },
      "source": [
        "#Import all columns omitting the fist which consists the names of the animals\n",
        "dataset = pd.read_csv('Zoo_New.csv',\n",
        "                      names=['animal_name','hair','feathers','eggs','milk',\n",
        "                                                   'airbone','aquatic','predator','toothed','backbone',\n",
        "                                                  'breathes','venomous','fins','legs','tail','domestic','catsize','class',])\n",
        "#We don't use animal name for classification because it is just a string stating the \n",
        "#name and it won't provide any extra information for classification in this context\n",
        "dataset=dataset.drop('animal_name',axis=1)"
      ],
      "execution_count": 0,
      "outputs": []
    },
    {
      "cell_type": "code",
      "metadata": {
        "id": "EY7dWSckupNG",
        "colab_type": "code",
        "colab": {}
      },
      "source": [
        "np.unique(dataset['class'].values)"
      ],
      "execution_count": 0,
      "outputs": []
    },
    {
      "cell_type": "code",
      "metadata": {
        "id": "8RvFwnziXkvl",
        "colab_type": "code",
        "colab": {}
      },
      "source": [
        "dataset['class']"
      ],
      "execution_count": 0,
      "outputs": []
    },
    {
      "cell_type": "code",
      "metadata": {
        "id": "WZi0wd4FXkvy",
        "colab_type": "code",
        "colab": {}
      },
      "source": [
        "dataset.shape"
      ],
      "execution_count": 0,
      "outputs": []
    },
    {
      "cell_type": "markdown",
      "metadata": {
        "id": "GTNxkkvzXkv4",
        "colab_type": "text"
      },
      "source": [
        "#### Splitting the datasets into train and test"
      ]
    },
    {
      "cell_type": "code",
      "metadata": {
        "id": "xn9kYLEpXkv5",
        "colab_type": "code",
        "colab": {}
      },
      "source": [
        "def train_test_split(dataset):\n",
        "    training_data = dataset.iloc[:80].reset_index(drop=True)#We drop the index respectively relabel the index\n",
        "    #starting form 0, because we do not want to run into errors regarding the row labels / indexes\n",
        "    testing_data = dataset.iloc[80:].reset_index(drop=True)\n",
        "    return training_data,testing_data\n",
        "training_data = train_test_split(dataset)[0]\n",
        "testing_data = train_test_split(dataset)[1] \n"
      ],
      "execution_count": 0,
      "outputs": []
    },
    {
      "cell_type": "code",
      "metadata": {
        "id": "Fe-o-hD_L3PG",
        "colab_type": "code",
        "colab": {}
      },
      "source": [
        "training_data = training_data.values"
      ],
      "execution_count": 0,
      "outputs": []
    },
    {
      "cell_type": "code",
      "metadata": {
        "id": "x7Nme5mHM3hf",
        "colab_type": "code",
        "colab": {}
      },
      "source": [
        "testing_data = testing_data.values"
      ],
      "execution_count": 0,
      "outputs": []
    },
    {
      "cell_type": "markdown",
      "metadata": {
        "id": "P3U8So3OXkv-",
        "colab_type": "text"
      },
      "source": [
        "#### Predict the class of test data"
      ]
    },
    {
      "cell_type": "code",
      "metadata": {
        "id": "-iGxFIDlLi5y",
        "colab_type": "code",
        "colab": {}
      },
      "source": [
        "from sklearn import tree"
      ],
      "execution_count": 0,
      "outputs": []
    },
    {
      "cell_type": "code",
      "metadata": {
        "id": "YoRwrg95Lr-O",
        "colab_type": "code",
        "colab": {}
      },
      "source": [
        "clf = tree.DecisionTreeClassifier()"
      ],
      "execution_count": 0,
      "outputs": []
    },
    {
      "cell_type": "code",
      "metadata": {
        "id": "GU12mErjLuVH",
        "colab_type": "code",
        "colab": {}
      },
      "source": [
        "clf = clf.fit(training_data[:,:16],training_data[:,16])"
      ],
      "execution_count": 0,
      "outputs": []
    },
    {
      "cell_type": "code",
      "metadata": {
        "id": "eQFJG4fzMqjc",
        "colab_type": "code",
        "colab": {}
      },
      "source": [
        "pred = clf.predict(testing_data[:,:16])"
      ],
      "execution_count": 0,
      "outputs": []
    },
    {
      "cell_type": "code",
      "metadata": {
        "id": "N-YLa2gKNGdw",
        "colab_type": "code",
        "colab": {}
      },
      "source": [
        "from sklearn.metrics import accuracy_score"
      ],
      "execution_count": 0,
      "outputs": []
    },
    {
      "cell_type": "code",
      "metadata": {
        "id": "DBGjNoZYNOE-",
        "colab_type": "code",
        "colab": {}
      },
      "source": [
        "accuracy_score(testing_data[:,16], pred)"
      ],
      "execution_count": 0,
      "outputs": []
    },
    {
      "cell_type": "code",
      "metadata": {
        "id": "hHXPQM8U399j",
        "colab_type": "code",
        "colab": {}
      },
      "source": [
        "import os\n",
        "save_dot = \"output\" + \".dot\"\n",
        "save_png = \"output\"+ \".png\"\n",
        "graph = graphviz.Source(export_graphviz(clf, out_file=save_dot, filled = True,feature_names=(list(dataset.columns))[:-1]))\n",
        "os.system(\"dot -T png -o \" + save_png + \" \" + save_dot)"
      ],
      "execution_count": 0,
      "outputs": []
    },
    {
      "cell_type": "code",
      "metadata": {
        "id": "Rz5cQhfCFXz9",
        "colab_type": "code",
        "colab": {}
      },
      "source": [
        "import matplotlib.pyplot as plt\n",
        "plt.figure(figsize=(20,20))\n",
        "plt.grid(False)\n",
        "plt.imshow(plt.imread(save_png)),\n",
        "plt.show()"
      ],
      "execution_count": 0,
      "outputs": []
    },
    {
      "cell_type": "markdown",
      "metadata": {
        "id": "tNT6UQN5rfRU",
        "colab_type": "text"
      },
      "source": [
        "Feature importance is calculated as the decrease in node impurity weighted by the probability of reaching that node. The node probability can be calculated by the number of samples that reach the node, divided by the total number of samples. The higher the value the more important the feature.\n",
        "\n"
      ]
    },
    {
      "cell_type": "code",
      "metadata": {
        "id": "P1eXeHpFR6IL",
        "colab_type": "code",
        "colab": {}
      },
      "source": [
        "\n",
        "def feature_importance_chart(clf, classifier_name, feature_names):\n",
        "    sorted_feature_importances, sorted_feature_names = (\n",
        "        zip(*sorted(zip(clf.tree_.compute_feature_importances(normalize=False), feature_names)))\n",
        "    )\n",
        "    plt.figure(figsize=(16, 9))\n",
        "    plt.barh(range(len(sorted_feature_importances)), sorted_feature_importances)\n",
        "    plt.yticks(\n",
        "        range(len(sorted_feature_importances)),\n",
        "        [\"{}: {:.3}\".format(a, b) for a, b in zip(sorted_feature_names, sorted_feature_importances)]\n",
        "    )\n",
        "    plt.title(\"Feature importance for the tree\")\n",
        "    plt.show()\n",
        "\n",
        "feature_importance_chart(clf, \"simple tree\", list(dataset.columns))"
      ],
      "execution_count": 0,
      "outputs": []
    },
    {
      "cell_type": "markdown",
      "metadata": {
        "id": "n6w0-4CQXkwK",
        "colab_type": "text"
      },
      "source": [
        "#### Exercise 1\n",
        "\n",
        "Change the train and test split ratio and observe the change in accuracy "
      ]
    },
    {
      "cell_type": "code",
      "metadata": {
        "id": "6ldggl6o4AYF",
        "colab_type": "code",
        "colab": {}
      },
      "source": [
        "#### Your code here"
      ],
      "execution_count": 0,
      "outputs": []
    },
    {
      "cell_type": "markdown",
      "metadata": {
        "id": "ic7E8XoisVo8",
        "colab_type": "text"
      },
      "source": [
        "#### Exercise 2\n",
        "\n",
        "Randomly sample 50 % of the data to build decision trees and plot the feature importance graph.\n",
        "\n",
        "Write briefly about how random sampling has affected the feature importance in the trained decision tree classifier"
      ]
    },
    {
      "cell_type": "code",
      "metadata": {
        "id": "nFto9kGs0Khn",
        "colab_type": "code",
        "colab": {}
      },
      "source": [
        "#### Your code here "
      ],
      "execution_count": 0,
      "outputs": []
    },
    {
      "cell_type": "markdown",
      "metadata": {
        "id": "k8X2x1u4Cl26",
        "colab_type": "text"
      },
      "source": [
        "### Please answer the questions below to complete the experiment:"
      ]
    },
    {
      "cell_type": "code",
      "metadata": {
        "id": "6QsEAlNtQ5BR",
        "colab_type": "code",
        "colab": {}
      },
      "source": [
        "#@title For this dataset, if the train-test split is changed to 90 -10, the feature importance of \"milk\" would be lower when compared to the feature importance of the same with 80 - 20 split. True or False { run: \"auto\", form-width: \"500px\", display-mode: \"form\" }\n",
        "Answer = \"\" #@param [\"True\",\"False\"]\n"
      ],
      "execution_count": 0,
      "outputs": []
    },
    {
      "cell_type": "code",
      "metadata": {
        "id": "rpKB5h3eXkwM",
        "colab_type": "code",
        "colab": {}
      },
      "source": [
        "#@title How was the experiment? { run: \"auto\", form-width: \"500px\", display-mode: \"form\" }\n",
        "Complexity = \"\" #@param [\"Too Simple, I am wasting time\", \"Good, But Not Challenging for me\", \"Good and Challenging me\", \"Was Tough, but I did it\", \"Too Difficult for me\"]\n"
      ],
      "execution_count": 0,
      "outputs": []
    },
    {
      "cell_type": "code",
      "metadata": {
        "id": "QkeXEuLiCsWm",
        "colab_type": "code",
        "colab": {}
      },
      "source": [
        "#@title If it was very easy, what more you would have liked to have been added? If it was very difficult, what would you have liked to have been removed? { run: \"auto\", display-mode: \"form\" }\n",
        "Additional = \"\" #@param {type:\"string\"}"
      ],
      "execution_count": 0,
      "outputs": []
    },
    {
      "cell_type": "code",
      "metadata": {
        "id": "9nPlVevNCvV4",
        "colab_type": "code",
        "colab": {}
      },
      "source": [
        "#@title Can you identify the concepts from the lecture which this experiment covered? { run: \"auto\", vertical-output: true, display-mode: \"form\" }\n",
        "Concepts = \"\" #@param [\"Yes\", \"No\"]"
      ],
      "execution_count": 0,
      "outputs": []
    },
    {
      "cell_type": "code",
      "metadata": {
        "id": "sxvDY4NOCx1I",
        "colab_type": "code",
        "cellView": "form",
        "colab": {}
      },
      "source": [
        "#@title Run this cell to submit your notebook for grading { vertical-output: true }\n",
        "try:\n",
        "  if submission_id:\n",
        "      return_id = submit_notebook()\n",
        "      if return_id : submission_id =return_id\n",
        "  else:\n",
        "      print(\"Please complete the setup first.\")\n",
        "except NameError:\n",
        "  print (\"Please complete the setup first.\")"
      ],
      "execution_count": 0,
      "outputs": []
    },
    {
      "cell_type": "code",
      "metadata": {
        "id": "ZgDs_3pkDKWi",
        "colab_type": "code",
        "colab": {}
      },
      "source": [
        ""
      ],
      "execution_count": 0,
      "outputs": []
    }
  ]
}