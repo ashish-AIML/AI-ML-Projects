{
  "nbformat": 4,
  "nbformat_minor": 0,
  "metadata": {
    "colab": {
      "name": "Week0-06-Lines.ipynb",
      "provenance": [],
      "include_colab_link": true
    },
    "kernelspec": {
      "display_name": "Python 3",
      "language": "python",
      "name": "python3"
    }
  },
  "cells": [
    {
      "cell_type": "markdown",
      "metadata": {
        "id": "view-in-github",
        "colab_type": "text"
      },
      "source": [
        "<a href=\"https://colab.research.google.com/github/ashish-AIML/AI-ML-Projects/blob/master/Week0_06_Lines.ipynb\" target=\"_parent\"><img src=\"https://colab.research.google.com/assets/colab-badge.svg\" alt=\"Open In Colab\"/></a>"
      ]
    },
    {
      "cell_type": "markdown",
      "metadata": {
        "id": "j4NyeRL1Pwu_",
        "colab_type": "text"
      },
      "source": [
        "# Advanced Certification in AIML\n",
        "## A Program by IIIT-H and TalentSprint\n",
        "### Python at Work"
      ]
    },
    {
      "cell_type": "markdown",
      "metadata": {
        "id": "FfZHYGYxP2QD",
        "colab_type": "text"
      },
      "source": [
        "### Setup Steps"
      ]
    },
    {
      "cell_type": "code",
      "metadata": {
        "id": "Yxshc_zLP4fn",
        "colab_type": "code",
        "colab": {}
      },
      "source": [
        "#@title Please enter your registration id to start: (e.g. P181900101) { run: \"auto\", display-mode: \"form\" }\n",
        "Id = \"P18_test\" #@param {type:\"string\"}\n"
      ],
      "execution_count": 0,
      "outputs": []
    },
    {
      "cell_type": "code",
      "metadata": {
        "id": "qdetAKjyP5Q6",
        "colab_type": "code",
        "colab": {}
      },
      "source": [
        "#@title Please enter your password (normally your phone number) to continue: { run: \"auto\", display-mode: \"form\" }\n",
        "password = \"912345678\" #@param {type:\"string\"}\n"
      ],
      "execution_count": 0,
      "outputs": []
    },
    {
      "cell_type": "code",
      "metadata": {
        "id": "0qnS2I9UP7vH",
        "colab_type": "code",
        "cellView": "form",
        "outputId": "a22cb29a-886d-4a3d-d52f-a5aed58dea14",
        "colab": {
          "base_uri": "https://localhost:8080/",
          "height": 35
        }
      },
      "source": [
        "#@title Run this cell to complete the setup for this Notebook\n",
        "\n",
        "from IPython import get_ipython\n",
        "ipython = get_ipython()\n",
        "  \n",
        "notebook=\"BLR_M1W0_SUN_EXP_6\" #name of the notebook\n",
        "\n",
        "def setup():\n",
        "#  ipython.magic(\"sx pip3 install torch\")\n",
        "   \n",
        "   print (\"Setup completed successfully\")\n",
        "   return\n",
        "\n",
        "def submit_notebook():\n",
        "    \n",
        "    ipython.magic(\"notebook -e \"+ notebook + \".ipynb\")\n",
        "    \n",
        "    import requests, json, base64\n",
        "\n",
        "    url = \"https://dashboard.talentsprint.com/xp/app/save_notebook_attempts\"\n",
        "    if not submission_id:\n",
        "      data = {\"id\" : getId(), \"notebook\" : notebook, \"mobile\" : getPassword()}\n",
        "      r = requests.post(url, data = data)\n",
        "      r = json.loads(r.text)\n",
        "\n",
        "      if r[\"status\"] == \"Success\":\n",
        "          return r[\"record_id\"]\n",
        "      elif \"err\" in r:        \n",
        "        print(r[\"err\"])\n",
        "        return None        \n",
        "      else:\n",
        "        print (\"Something is wrong, the notebook will not be submitted for grading\")\n",
        "        return None\n",
        "\n",
        "    elif getComplexity() and getAdditional() and getConcepts():\n",
        "      f = open(notebook + \".ipynb\", \"rb\")\n",
        "      file_hash = base64.b64encode(f.read())\n",
        "\n",
        "      data = {\"complexity\" : Complexity, \"additional\" :Additional, \n",
        "              \"concepts\" : Concepts, \"record_id\" : submission_id, \n",
        "              \"id\" : Id, \"file_hash\" : file_hash, \"notebook\" : notebook}\n",
        "\n",
        "      r = requests.post(url, data = data)\n",
        "      print(\"Your submission is successful. Ref:\", submission_id)\n",
        "      return submission_id\n",
        "    else: submission_id\n",
        "    \n",
        "\n",
        "def getAdditional():\n",
        "  try:\n",
        "    if Additional: return Additional      \n",
        "    else: raise NameError('')\n",
        "  except NameError:\n",
        "    print (\"Please answer Additional Question\")\n",
        "    return None\n",
        "\n",
        "def getComplexity():\n",
        "  try:\n",
        "    return Complexity\n",
        "  except NameError:\n",
        "    print (\"Please answer Complexity Question\")\n",
        "    return None\n",
        "  \n",
        "def getConcepts():\n",
        "  try:\n",
        "    return Concepts\n",
        "  except NameError:\n",
        "    print (\"Please answer Concepts Question\")\n",
        "    return None\n",
        "\n",
        "def getId():\n",
        "  try: \n",
        "    return Id if Id else None\n",
        "  except NameError:\n",
        "    return None\n",
        "\n",
        "def getPassword():\n",
        "  try:\n",
        "    return password if password else None\n",
        "  except NameError:\n",
        "    return None\n",
        "\n",
        "submission_id = None\n",
        "### Setup \n",
        "if getPassword() and getId():\n",
        "  submission_id = submit_notebook()\n",
        "  if submission_id:\n",
        "    setup()\n",
        "  \n",
        "else:\n",
        "  print (\"Please complete Id and Password cells before running setup\")\n",
        "\n"
      ],
      "execution_count": 0,
      "outputs": [
        {
          "output_type": "stream",
          "text": [
            "Setup completed successfully\n"
          ],
          "name": "stdout"
        }
      ]
    },
    {
      "cell_type": "markdown",
      "metadata": {
        "id": "TgNIdnH7PwvB",
        "colab_type": "text"
      },
      "source": [
        "#### Equation of a line\n",
        "\n",
        "A line in two dimensions is represented by \n",
        "$$y = mx + c$$\n",
        "In three dimesions the geometric equivalent is a plane, represented by the equation:\n",
        "$$ax + by + cz + d = 0$$\n",
        "\n",
        "We routinely deal with many more than 3 dimensions. So this notation is not useful. So we switch to writing the above two equations as:\n",
        "$$w_0 + w_1x_1 + w_2x_2 = 0$$\n",
        "$$w_0 + w_1x_1 + w_2x_2 + w_3x_3 = 0$$\n",
        "\n",
        "In a n-dimensional space the equation of a 'line' or Hyperplane is:\n",
        "$$\\Sigma w_ix_i = 0$$\n",
        "\n",
        "Or even more compactly, using the vector/matrix notation:\n",
        "$$W^TX = 0$$\n",
        "* The coefficient of the equation are represented by the column matrix $W$, where $W = [w_0, w_1, ... w_n]$ \n",
        "* The point in the space is represented by the column matrix $X$. That is, $X=[x_0, x_1, ... x_n]$"
      ]
    },
    {
      "cell_type": "markdown",
      "metadata": {
        "id": "2i2MSO6qPwvC",
        "colab_type": "text"
      },
      "source": [
        "#### Points on a line"
      ]
    },
    {
      "cell_type": "markdown",
      "metadata": {
        "id": "Uk3QdICNPwvE",
        "colab_type": "text"
      },
      "source": [
        "If a point $X'$ lies on the Hyperplane, then $W^TX' = 0$\n",
        "\n",
        "This hyper plane divides the space into two parts. \n",
        "* How do we distinguish between the points that are on the different sides of plane?"
      ]
    },
    {
      "cell_type": "code",
      "metadata": {
        "ExecuteTime": {
          "end_time": "2018-09-14T11:08:40.286327Z",
          "start_time": "2018-09-14T11:08:40.281856Z"
        },
        "id": "CoeqjlcEPwvF",
        "colab_type": "code",
        "colab": {}
      },
      "source": [
        "import numpy as np\n",
        "from matplotlib import pyplot as plt"
      ],
      "execution_count": 0,
      "outputs": []
    },
    {
      "cell_type": "markdown",
      "metadata": {
        "id": "4jeZToO2PwvK",
        "colab_type": "text"
      },
      "source": [
        "\n",
        "Let the equation of the hyperplane be $2X_1+3X_2=0$\n",
        "Then $W$ is :"
      ]
    },
    {
      "cell_type": "code",
      "metadata": {
        "ExecuteTime": {
          "end_time": "2018-09-14T11:08:41.128882Z",
          "start_time": "2018-09-14T11:08:41.122098Z"
        },
        "id": "C-t45HhMPwvM",
        "colab_type": "code",
        "colab": {}
      },
      "source": [
        "W = np.array([2, 3])"
      ],
      "execution_count": 0,
      "outputs": []
    },
    {
      "cell_type": "markdown",
      "metadata": {
        "id": "YPGIBEDRPwvQ",
        "colab_type": "text"
      },
      "source": [
        "Lets look at three points $X_0 = [3, -2], X_1 = [1, 2]$ and $X_2 = [-1,-2]$"
      ]
    },
    {
      "cell_type": "code",
      "metadata": {
        "ExecuteTime": {
          "end_time": "2018-09-14T11:08:41.993840Z",
          "start_time": "2018-09-14T11:08:41.988883Z"
        },
        "id": "9_D_t5zPPwvS",
        "colab_type": "code",
        "colab": {}
      },
      "source": [
        "X0 = np.array([3, -2])\n",
        "X1 = np.array([1, 2])\n",
        "X2 = np.array([-1, -2])"
      ],
      "execution_count": 0,
      "outputs": []
    },
    {
      "cell_type": "markdown",
      "metadata": {
        "id": "tAQuqDl9PwvV",
        "colab_type": "text"
      },
      "source": [
        "If a point X1 lies one side of the Hyperplane, then $W^TX > 0$"
      ]
    },
    {
      "cell_type": "code",
      "metadata": {
        "ExecuteTime": {
          "end_time": "2018-09-14T11:08:42.883757Z",
          "start_time": "2018-09-14T11:08:42.873072Z"
        },
        "id": "V0XW2fKOPwvX",
        "colab_type": "code",
        "outputId": "317d9bda-0e9f-48c9-f1e6-94170d9c5a8d",
        "colab": {
          "base_uri": "https://localhost:8080/",
          "height": 34
        }
      },
      "source": [
        "W.T@X1"
      ],
      "execution_count": 0,
      "outputs": [
        {
          "output_type": "execute_result",
          "data": {
            "text/plain": [
              "8"
            ]
          },
          "metadata": {
            "tags": []
          },
          "execution_count": 6
        }
      ]
    },
    {
      "cell_type": "markdown",
      "metadata": {
        "id": "5DeXad0bPwve",
        "colab_type": "text"
      },
      "source": [
        "If a point X2 lies another side of the Hyperplane, then $W^TX < 0$"
      ]
    },
    {
      "cell_type": "code",
      "metadata": {
        "ExecuteTime": {
          "end_time": "2018-09-14T11:08:44.254002Z",
          "start_time": "2018-09-14T11:08:44.243116Z"
        },
        "id": "xviuU2-YPwvg",
        "colab_type": "code",
        "outputId": "08573533-d7ea-4d5d-e2a8-d5d611e5570e",
        "colab": {
          "base_uri": "https://localhost:8080/",
          "height": 34
        }
      },
      "source": [
        "W.T@X2"
      ],
      "execution_count": 0,
      "outputs": [
        {
          "output_type": "execute_result",
          "data": {
            "text/plain": [
              "-8"
            ]
          },
          "metadata": {
            "tags": []
          },
          "execution_count": 7
        }
      ]
    },
    {
      "cell_type": "markdown",
      "metadata": {
        "id": "GN1hDcGuPwvl",
        "colab_type": "text"
      },
      "source": [
        "The equation can be recast as $X_2= -\\frac{2}{3}X1$"
      ]
    },
    {
      "cell_type": "code",
      "metadata": {
        "ExecuteTime": {
          "end_time": "2018-09-14T11:11:04.640441Z",
          "start_time": "2018-09-14T11:11:04.635900Z"
        },
        "id": "BFrSNBafPwvm",
        "colab_type": "code",
        "outputId": "00580542-fc1b-43d5-ae5e-a912fcaba95d",
        "colab": {
          "base_uri": "https://localhost:8080/",
          "height": 51
        }
      },
      "source": [
        "X_1 = np.linspace(-5,5, 10)\n",
        "print(X_1)"
      ],
      "execution_count": 0,
      "outputs": [
        {
          "output_type": "stream",
          "text": [
            "[-5.         -3.88888889 -2.77777778 -1.66666667 -0.55555556  0.55555556\n",
            "  1.66666667  2.77777778  3.88888889  5.        ]\n"
          ],
          "name": "stdout"
        }
      ]
    },
    {
      "cell_type": "code",
      "metadata": {
        "ExecuteTime": {
          "end_time": "2018-09-14T11:11:21.523578Z",
          "start_time": "2018-09-14T11:11:21.518642Z"
        },
        "id": "Ex7tJ-UAPwvv",
        "colab_type": "code",
        "outputId": "9da3bca1-ac7c-4482-db1b-b7be9d1205f0",
        "colab": {
          "base_uri": "https://localhost:8080/",
          "height": 51
        }
      },
      "source": [
        "X_2 = -(2/3)*X_1\n",
        "print(X_2)"
      ],
      "execution_count": 0,
      "outputs": [
        {
          "output_type": "stream",
          "text": [
            "[ 3.33333333  2.59259259  1.85185185  1.11111111  0.37037037 -0.37037037\n",
            " -1.11111111 -1.85185185 -2.59259259 -3.33333333]\n"
          ],
          "name": "stdout"
        }
      ]
    },
    {
      "cell_type": "markdown",
      "metadata": {
        "id": "lYHghgWOPwv0",
        "colab_type": "text"
      },
      "source": [
        "As we noted before, the points on different sides of hyperplane (line) will have different signs for $W^TX$ while it will be zero for points *on* the line (plane)."
      ]
    },
    {
      "cell_type": "code",
      "metadata": {
        "ExecuteTime": {
          "end_time": "2018-09-14T11:30:49.083719Z",
          "start_time": "2018-09-14T11:30:48.925412Z"
        },
        "id": "OBIjvPa1Pwv1",
        "colab_type": "code",
        "outputId": "e4268f1b-fb59-42fc-b16e-ae945dd23038",
        "colab": {
          "base_uri": "https://localhost:8080/",
          "height": 378
        }
      },
      "source": [
        "plt.plot(X_1, X_2)\n",
        "plt.plot([1],[2] ,'r*')\n",
        "plt.plot([-1], [-2], 'g*')\n",
        "plt.plot([3], [-2], 'b*')\n",
        "plt.grid(True)\n",
        "plt.xlabel('X1')\n",
        "plt.ylabel('X2')"
      ],
      "execution_count": 0,
      "outputs": [
        {
          "output_type": "execute_result",
          "data": {
            "text/plain": [
              "Text(0,0.5,'X2')"
            ]
          },
          "metadata": {
            "tags": []
          },
          "execution_count": 15
        },
        {
          "output_type": "display_data",
          "data": {
            "image/png": "[encoded data removed]",
            "text/plain": [
              "<matplotlib.figure.Figure at 0x7f59d7a72940>"
            ]
          },
          "metadata": {
            "tags": []
          }
        }
      ]
    },
    {
      "cell_type": "markdown",
      "metadata": {
        "id": "0OkUIpBfQBHt",
        "colab_type": "text"
      },
      "source": [
        "### Please answer the questions below to complete the experiment:"
      ]
    },
    {
      "cell_type": "code",
      "metadata": {
        "id": "w4DxTTkMPwv6",
        "colab_type": "code",
        "colab": {}
      },
      "source": [
        "#@title How was the experiment? { run: \"auto\", form-width: \"500px\", display-mode: \"form\" }\n",
        "Complexity = \"\" #@param [\"Too Simple, I am wasting time\", \"Good, But Not Challenging for me\", \"Good and Challenging me\", \"Was Tough, but I did it\", \"Too Difficult for me\"]\n"
      ],
      "execution_count": 0,
      "outputs": []
    },
    {
      "cell_type": "code",
      "metadata": {
        "id": "kLoTGXUEQGAn",
        "colab_type": "code",
        "colab": {}
      },
      "source": [
        "#@title If it was very easy, what more you would have liked to have been added? If it was very difficult, what would you have liked to have been removed? { run: \"auto\", display-mode: \"form\" }\n",
        "Additional = \"\" #@param {type:\"string\"}"
      ],
      "execution_count": 0,
      "outputs": []
    },
    {
      "cell_type": "code",
      "metadata": {
        "id": "_i16WvLuQH5V",
        "colab_type": "code",
        "colab": {}
      },
      "source": [
        "#@title Can you identify the concepts from the lecture which this experiment covered? { run: \"auto\", vertical-output: true, display-mode: \"form\" }\n",
        "Concepts = \"Yes\" #@param [\"Yes\", \"No\"]"
      ],
      "execution_count": 0,
      "outputs": []
    },
    {
      "cell_type": "code",
      "metadata": {
        "id": "_hFEYf4MQKC5",
        "colab_type": "code",
        "cellView": "form",
        "colab": {}
      },
      "source": [
        "#@title Run this cell to submit your notebook for grading { vertical-output: true }\n",
        "try:\n",
        "  if submission_id:\n",
        "      return_id = submit_notebook()\n",
        "      if return_id : submission_id =return_id\n",
        "  else:\n",
        "      print(\"Please complete the setup first.\")\n",
        "except NameError:\n",
        "  print (\"Please complete the setup first.\")"
      ],
      "execution_count": 0,
      "outputs": []
    }
  ]
}