{
  "nbformat": 4,
  "nbformat_minor": 0,
  "metadata": {
    "colab": {
      "name": "1_KNN_weight_sphericity.ipynb",
      "provenance": [],
      "collapsed_sections": [],
      "include_colab_link": true
    },
    "kernelspec": {
      "display_name": "Python 3",
      "language": "python",
      "name": "python3"
    }
  },
  "cells": [
    {
      "cell_type": "markdown",
      "metadata": {
        "id": "view-in-github",
        "colab_type": "text"
      },
      "source": [
        "<a href=\"https://colab.research.google.com/github/ashish-AIML/AI-ML-Projects/blob/master/1_KNN_weight_sphericity.ipynb\" target=\"_parent\"><img src=\"https://colab.research.google.com/assets/colab-badge.svg\" alt=\"Open In Colab\"/></a>"
      ]
    },
    {
      "cell_type": "markdown",
      "metadata": {
        "id": "15tOC4a3Iuov",
        "colab_type": "text"
      },
      "source": [
        "\n",
        "\n",
        "\n",
        "# Advanced Certification in AIML\n",
        "## A Program by IIIT-H and TalentSprint"
      ]
    },
    {
      "cell_type": "markdown",
      "metadata": {
        "id": "-U-6qKoXv6QY",
        "colab_type": "text"
      },
      "source": [
        "### Setup Steps:"
      ]
    },
    {
      "cell_type": "code",
      "metadata": {
        "id": "IrXc7YPIv5mh",
        "colab_type": "code",
        "colab": {}
      },
      "source": [
        "#@title Please enter your registration id to start: (e.g. P181900101) { run: \"auto\", display-mode: \"form\" }\n",
        "Id = \"P19A09E_test\" #@param {type:\"string\"}\n"
      ],
      "execution_count": 0,
      "outputs": []
    },
    {
      "cell_type": "code",
      "metadata": {
        "id": "7AQrlyzyv-tz",
        "colab_type": "code",
        "colab": {}
      },
      "source": [
        "#@title Please enter your password (normally your phone number) to continue: { run: \"auto\", display-mode: \"form\" }\n",
        "password = \"9874561230\" #@param {type:\"string\"}\n"
      ],
      "execution_count": 0,
      "outputs": []
    },
    {
      "cell_type": "code",
      "metadata": {
        "id": "4uSKbMAZwBhI",
        "colab_type": "code",
        "cellView": "both",
        "outputId": "ae09756b-2474-4672-b85a-66787c28ac68",
        "colab": {
          "base_uri": "https://localhost:8080/",
          "height": 34
        }
      },
      "source": [
        "#@title Run this cell to complete the setup for this Notebook\n",
        "\n",
        "from IPython import get_ipython\n",
        "ipython = get_ipython()\n",
        "  \n",
        "notebook=\"M0W1_EXP_3_KNN_weight_sphericity\" #name of the notebook\n",
        "\n",
        "def setup():\n",
        "#  ipython.magic(\"sx pip3 install torch\")\n",
        "    ipython.magic(\"sx wget https://cdn.talentsprint.com/aiml/Experiment_related_data/kNN_weight_sphericity_train.csv\")\n",
        "    ipython.magic(\"sx wget https://cdn.talentsprint.com/aiml/Experiment_related_data/kNN_weight_sphericity_test.csv\")\n",
        "  \n",
        "    print (\"Setup completed successfully\")\n",
        "    return\n",
        "\n",
        "def submit_notebook():\n",
        "    \n",
        "    ipython.magic(\"notebook -e \"+ notebook + \".ipynb\")\n",
        "    \n",
        "    import requests, json, base64, datetime\n",
        "\n",
        "    url = \"https://dashboard.talentsprint.com/xp/app/save_notebook_attempts\"\n",
        "    if not submission_id:\n",
        "      data = {\"id\" : getId(), \"notebook\" : notebook, \"mobile\" : getPassword()}\n",
        "      r = requests.post(url, data = data)\n",
        "      r = json.loads(r.text)\n",
        "\n",
        "      if r[\"status\"] == \"Success\":\n",
        "          return r[\"record_id\"]\n",
        "      elif \"err\" in r:        \n",
        "        print(r[\"err\"])\n",
        "        return None        \n",
        "      else:\n",
        "        print (\"Something is wrong, the notebook will not be submitted for grading\")\n",
        "        return None\n",
        "\n",
        "    elif getAnswer() and getComplexity() and getAdditional() and getConcepts():\n",
        "      f = open(notebook + \".ipynb\", \"rb\")\n",
        "      file_hash = base64.b64encode(f.read())\n",
        "\n",
        "      data = {\"complexity\" : Complexity, \"additional\" :Additional, \n",
        "              \"concepts\" : Concepts, \"record_id\" : submission_id, \n",
        "              \"answer\" : Answer, \"id\" : Id, \"file_hash\" : file_hash,\n",
        "              \"notebook\" : notebook}\n",
        "\n",
        "      r = requests.post(url, data = data)\n",
        "      r = json.loads(r.text)\n",
        "      print(\"Your submission is successful.\")\n",
        "      print(\"Ref Id:\", submission_id)\n",
        "      print(\"Date of submission: \", r[\"date\"])\n",
        "      print(\"Time of submission: \", r[\"time\"])\n",
        "      print(\"View your submissions: https://iiith-aiml.talentsprint.com/notebook_submissions\")\n",
        "      print(\"For any queries/discrepancies, please connect with mentors through the chat icon in LMS dashboard.\")\n",
        "      return submission_id\n",
        "    else: submission_id\n",
        "    \n",
        "\n",
        "def getAdditional():\n",
        "  try:\n",
        "    if Additional: return Additional      \n",
        "    else: raise NameError('')\n",
        "  except NameError:\n",
        "    print (\"Please answer Additional Question\")\n",
        "    return None\n",
        "\n",
        "def getComplexity():\n",
        "  try:\n",
        "    return Complexity\n",
        "  except NameError:\n",
        "    print (\"Please answer Complexity Question\")\n",
        "    return None\n",
        "  \n",
        "def getConcepts():\n",
        "  try:\n",
        "    return Concepts\n",
        "  except NameError:\n",
        "    print (\"Please answer Concepts Question\")\n",
        "    return None\n",
        "\n",
        "def getAnswer():\n",
        "  try:\n",
        "    return Answer\n",
        "  except NameError:\n",
        "    print (\"Please answer Question\")\n",
        "    return None\n",
        "\n",
        "def getId():\n",
        "  try: \n",
        "    return Id if Id else None\n",
        "  except NameError:\n",
        "    return None\n",
        "\n",
        "def getPassword():\n",
        "  try:\n",
        "    return password if password else None\n",
        "  except NameError:\n",
        "    return None\n",
        "\n",
        "submission_id = None\n",
        "### Setup \n",
        "if getPassword() and getId():\n",
        "  submission_id = submit_notebook()\n",
        "  if submission_id:\n",
        "    setup()\n",
        "  \n",
        "else:\n",
        "  print (\"Please complete Id and Password cells before running setup\")\n",
        "\n"
      ],
      "execution_count": 0,
      "outputs": [
        {
          "output_type": "stream",
          "text": [
            "Setup completed successfully\n"
          ],
          "name": "stdout"
        }
      ]
    },
    {
      "cell_type": "markdown",
      "metadata": {
        "id": "bNDLP9dhIuoy",
        "colab_type": "text"
      },
      "source": [
        "In this experiment, we will use the data set on fruits which we explored earlier and learn how a simple K nearest neighbour classification works. "
      ]
    },
    {
      "cell_type": "markdown",
      "metadata": {
        "id": "br7oE70BIuoz",
        "colab_type": "text"
      },
      "source": [
        "Let us consider a simple situation. Given some data about a fruit, we want to label it automatically.\n",
        "\n",
        "Fruits are characterized by \n",
        " * weight in grams as a float\n",
        " * sphericity in mm as a float\n",
        " * label as a string\n",
        "     - \"A\" $\\rightarrow$ Apple\n",
        "     - \"O\" $\\rightarrow$ Orange\n",
        "     \n",
        "We are given some sample data such as (303, 3, \"A\") meaning the fruit with 303 gram weight, and yellow colour is an apple. A set of such *training samples* is given in “kNN_weight_sphericity_train.csv”. \n",
        "\n",
        "We are given a set of **test** data where only weight and colour are given,  eg. (373,1). We should design a simple Nearest Neighbour classifier that will find the fruit label. i.e., \"A\" or \"O\", meaning Apple or Orange. \n",
        "\n",
        "We have several such testcases, split into train and test. We try to see if our predictions are fine on test data.\n"
      ]
    },
    {
      "cell_type": "code",
      "metadata": {
        "id": "xUbF5jHjIuo0",
        "colab_type": "code",
        "colab": {}
      },
      "source": [
        "## Let us set up the file names\n",
        "FRUITS_TRAIN = \"kNN_weight_sphericity_train.csv\"\n",
        "FRUITS_TEST1 = \"kNN_weight_sphericity_test.csv\"\n",
        "\n"
      ],
      "execution_count": 0,
      "outputs": []
    },
    {
      "cell_type": "code",
      "metadata": {
        "id": "Y2M6za5jIuo3",
        "colab_type": "code",
        "outputId": "c94979b3-6a90-4ce0-ed47-86a7bead9135",
        "colab": {
          "base_uri": "https://localhost:8080/",
          "height": 1000
        }
      },
      "source": [
        "# Let us first read the data from the file and do a quick visualization\n",
        "import pandas as pd\n",
        "train = pd.read_csv(FRUITS_TRAIN)\n",
        "train"
      ],
      "execution_count": 0,
      "outputs": [
        {
          "output_type": "execute_result",
          "data": {
            "text/html": [
              "<div>\n",
              "<style scoped>\n",
              "    .dataframe tbody tr th:only-of-type {\n",
              "        vertical-align: middle;\n",
              "    }\n",
              "\n",
              "    .dataframe tbody tr th {\n",
              "        vertical-align: top;\n",
              "    }\n",
              "\n",
              "    .dataframe thead th {\n",
              "        text-align: right;\n",
              "    }\n",
              "</style>\n",
              "<table border=\"1\" class=\"dataframe\">\n",
              "  <thead>\n",
              "    <tr style=\"text-align: right;\">\n",
              "      <th></th>\n",
              "      <th>Weight</th>\n",
              "      <th>Sphericity</th>\n",
              "      <th>Label</th>\n",
              "    </tr>\n",
              "  </thead>\n",
              "  <tbody>\n",
              "    <tr>\n",
              "      <th>0</th>\n",
              "      <td>200</td>\n",
              "      <td>0.400</td>\n",
              "      <td>A</td>\n",
              "    </tr>\n",
              "    <tr>\n",
              "      <th>1</th>\n",
              "      <td>320</td>\n",
              "      <td>1.000</td>\n",
              "      <td>O</td>\n",
              "    </tr>\n",
              "    <tr>\n",
              "      <th>2</th>\n",
              "      <td>310</td>\n",
              "      <td>0.950</td>\n",
              "      <td>O</td>\n",
              "    </tr>\n",
              "    <tr>\n",
              "      <th>3</th>\n",
              "      <td>220</td>\n",
              "      <td>0.450</td>\n",
              "      <td>A</td>\n",
              "    </tr>\n",
              "    <tr>\n",
              "      <th>4</th>\n",
              "      <td>230</td>\n",
              "      <td>0.500</td>\n",
              "      <td>A</td>\n",
              "    </tr>\n",
              "    <tr>\n",
              "      <th>5</th>\n",
              "      <td>245</td>\n",
              "      <td>0.400</td>\n",
              "      <td>A</td>\n",
              "    </tr>\n",
              "    <tr>\n",
              "      <th>6</th>\n",
              "      <td>240</td>\n",
              "      <td>0.350</td>\n",
              "      <td>A</td>\n",
              "    </tr>\n",
              "    <tr>\n",
              "      <th>7</th>\n",
              "      <td>330</td>\n",
              "      <td>0.980</td>\n",
              "      <td>O</td>\n",
              "    </tr>\n",
              "    <tr>\n",
              "      <th>8</th>\n",
              "      <td>315</td>\n",
              "      <td>0.900</td>\n",
              "      <td>O</td>\n",
              "    </tr>\n",
              "    <tr>\n",
              "      <th>9</th>\n",
              "      <td>243</td>\n",
              "      <td>0.530</td>\n",
              "      <td>A</td>\n",
              "    </tr>\n",
              "    <tr>\n",
              "      <th>10</th>\n",
              "      <td>333</td>\n",
              "      <td>0.920</td>\n",
              "      <td>O</td>\n",
              "    </tr>\n",
              "    <tr>\n",
              "      <th>11</th>\n",
              "      <td>255</td>\n",
              "      <td>0.600</td>\n",
              "      <td>A</td>\n",
              "    </tr>\n",
              "    <tr>\n",
              "      <th>12</th>\n",
              "      <td>259</td>\n",
              "      <td>0.420</td>\n",
              "      <td>A</td>\n",
              "    </tr>\n",
              "    <tr>\n",
              "      <th>13</th>\n",
              "      <td>253</td>\n",
              "      <td>0.510</td>\n",
              "      <td>A</td>\n",
              "    </tr>\n",
              "    <tr>\n",
              "      <th>14</th>\n",
              "      <td>272</td>\n",
              "      <td>0.700</td>\n",
              "      <td>O</td>\n",
              "    </tr>\n",
              "    <tr>\n",
              "      <th>15</th>\n",
              "      <td>260</td>\n",
              "      <td>0.750</td>\n",
              "      <td>O</td>\n",
              "    </tr>\n",
              "    <tr>\n",
              "      <th>16</th>\n",
              "      <td>267</td>\n",
              "      <td>0.480</td>\n",
              "      <td>A</td>\n",
              "    </tr>\n",
              "    <tr>\n",
              "      <th>17</th>\n",
              "      <td>265</td>\n",
              "      <td>0.600</td>\n",
              "      <td>A</td>\n",
              "    </tr>\n",
              "    <tr>\n",
              "      <th>18</th>\n",
              "      <td>266</td>\n",
              "      <td>0.680</td>\n",
              "      <td>O</td>\n",
              "    </tr>\n",
              "    <tr>\n",
              "      <th>19</th>\n",
              "      <td>266</td>\n",
              "      <td>0.700</td>\n",
              "      <td>A</td>\n",
              "    </tr>\n",
              "    <tr>\n",
              "      <th>20</th>\n",
              "      <td>260</td>\n",
              "      <td>0.300</td>\n",
              "      <td>A</td>\n",
              "    </tr>\n",
              "    <tr>\n",
              "      <th>21</th>\n",
              "      <td>220</td>\n",
              "      <td>0.330</td>\n",
              "      <td>A</td>\n",
              "    </tr>\n",
              "    <tr>\n",
              "      <th>22</th>\n",
              "      <td>326</td>\n",
              "      <td>0.980</td>\n",
              "      <td>O</td>\n",
              "    </tr>\n",
              "    <tr>\n",
              "      <th>23</th>\n",
              "      <td>313</td>\n",
              "      <td>0.910</td>\n",
              "      <td>O</td>\n",
              "    </tr>\n",
              "    <tr>\n",
              "      <th>24</th>\n",
              "      <td>210</td>\n",
              "      <td>0.390</td>\n",
              "      <td>A</td>\n",
              "    </tr>\n",
              "    <tr>\n",
              "      <th>25</th>\n",
              "      <td>232</td>\n",
              "      <td>0.440</td>\n",
              "      <td>A</td>\n",
              "    </tr>\n",
              "    <tr>\n",
              "      <th>26</th>\n",
              "      <td>236</td>\n",
              "      <td>0.600</td>\n",
              "      <td>A</td>\n",
              "    </tr>\n",
              "    <tr>\n",
              "      <th>27</th>\n",
              "      <td>270</td>\n",
              "      <td>0.333</td>\n",
              "      <td>A</td>\n",
              "    </tr>\n",
              "    <tr>\n",
              "      <th>28</th>\n",
              "      <td>330</td>\n",
              "      <td>0.890</td>\n",
              "      <td>O</td>\n",
              "    </tr>\n",
              "    <tr>\n",
              "      <th>29</th>\n",
              "      <td>233</td>\n",
              "      <td>0.410</td>\n",
              "      <td>A</td>\n",
              "    </tr>\n",
              "    <tr>\n",
              "      <th>30</th>\n",
              "      <td>269</td>\n",
              "      <td>0.670</td>\n",
              "      <td>O</td>\n",
              "    </tr>\n",
              "    <tr>\n",
              "      <th>31</th>\n",
              "      <td>255</td>\n",
              "      <td>0.690</td>\n",
              "      <td>O</td>\n",
              "    </tr>\n",
              "    <tr>\n",
              "      <th>32</th>\n",
              "      <td>261</td>\n",
              "      <td>0.390</td>\n",
              "      <td>A</td>\n",
              "    </tr>\n",
              "    <tr>\n",
              "      <th>33</th>\n",
              "      <td>271</td>\n",
              "      <td>0.550</td>\n",
              "      <td>A</td>\n",
              "    </tr>\n",
              "    <tr>\n",
              "      <th>34</th>\n",
              "      <td>269</td>\n",
              "      <td>0.710</td>\n",
              "      <td>O</td>\n",
              "    </tr>\n",
              "    <tr>\n",
              "      <th>35</th>\n",
              "      <td>250</td>\n",
              "      <td>0.590</td>\n",
              "      <td>A</td>\n",
              "    </tr>\n",
              "    <tr>\n",
              "      <th>36</th>\n",
              "      <td>270</td>\n",
              "      <td>0.370</td>\n",
              "      <td>A</td>\n",
              "    </tr>\n",
              "    <tr>\n",
              "      <th>37</th>\n",
              "      <td>266</td>\n",
              "      <td>0.690</td>\n",
              "      <td>A</td>\n",
              "    </tr>\n",
              "    <tr>\n",
              "      <th>38</th>\n",
              "      <td>210</td>\n",
              "      <td>0.420</td>\n",
              "      <td>A</td>\n",
              "    </tr>\n",
              "  </tbody>\n",
              "</table>\n",
              "</div>"
            ],
            "text/plain": [
              "    Weight  Sphericity Label\n",
              "0      200       0.400     A\n",
              "1      320       1.000     O\n",
              "2      310       0.950     O\n",
              "3      220       0.450     A\n",
              "4      230       0.500     A\n",
              "5      245       0.400     A\n",
              "6      240       0.350     A\n",
              "7      330       0.980     O\n",
              "8      315       0.900     O\n",
              "9      243       0.530     A\n",
              "10     333       0.920     O\n",
              "11     255       0.600     A\n",
              "12     259       0.420     A\n",
              "13     253       0.510     A\n",
              "14     272       0.700     O\n",
              "15     260       0.750     O\n",
              "16     267       0.480     A\n",
              "17     265       0.600     A\n",
              "18     266       0.680     O\n",
              "19     266       0.700     A\n",
              "20     260       0.300     A\n",
              "21     220       0.330     A\n",
              "22     326       0.980     O\n",
              "23     313       0.910     O\n",
              "24     210       0.390     A\n",
              "25     232       0.440     A\n",
              "26     236       0.600     A\n",
              "27     270       0.333     A\n",
              "28     330       0.890     O\n",
              "29     233       0.410     A\n",
              "30     269       0.670     O\n",
              "31     255       0.690     O\n",
              "32     261       0.390     A\n",
              "33     271       0.550     A\n",
              "34     269       0.710     O\n",
              "35     250       0.590     A\n",
              "36     270       0.370     A\n",
              "37     266       0.690     A\n",
              "38     210       0.420     A"
            ]
          },
          "metadata": {
            "tags": []
          },
          "execution_count": 5
        }
      ]
    },
    {
      "cell_type": "markdown",
      "metadata": {
        "id": "tjgbrRIzIuo8",
        "colab_type": "text"
      },
      "source": [
        "We  see that similar fruits come close in the feature (weight, color) space? Now let us plot one sample data given in black."
      ]
    },
    {
      "cell_type": "code",
      "metadata": {
        "id": "K2b0LyQFy3Aw",
        "colab_type": "code",
        "colab": {}
      },
      "source": [
        "import matplotlib.pyplot as plt"
      ],
      "execution_count": 0,
      "outputs": []
    },
    {
      "cell_type": "code",
      "metadata": {
        "id": "GIGXz97lzVyk",
        "colab_type": "code",
        "colab": {}
      },
      "source": [
        "apples=train[train['Label']=='A']\n",
        "oranges=train[train['Label']=='O']"
      ],
      "execution_count": 0,
      "outputs": []
    },
    {
      "cell_type": "code",
      "metadata": {
        "id": "y1TkHK4BIuo8",
        "colab_type": "code",
        "outputId": "d7759514-50bf-4380-a3d9-690da313b0f8",
        "colab": {
          "base_uri": "https://localhost:8080/",
          "height": 283
        }
      },
      "source": [
        "plt.plot(apples.Weight, apples.Sphericity, \"ro\")\n",
        "plt.plot(oranges.Weight, oranges.Sphericity, \"bo\")\n",
        "plt.xlabel(\"Weight -- in grams\")\n",
        "plt.ylabel(\"Sphericity -- r-o-y-g-b-p\")\n",
        "plt.legend([\"Apples\", \"Oranges\"])\n",
        "plt.plot([373], [1], \"ko\")\n",
        "plt.show()"
      ],
      "execution_count": 0,
      "outputs": [
        {
          "output_type": "display_data",
          "data": {
            "image/png": "[encoded data removed]",
            "text/plain": [
              "<Figure size 432x288 with 1 Axes>"
            ]
          },
          "metadata": {
            "tags": []
          }
        }
      ]
    },
    {
      "cell_type": "markdown",
      "metadata": {
        "id": "2Ku_800sIuo_",
        "colab_type": "text"
      },
      "source": [
        "From the visualization alone, we can infer that the unknown fruit is likely to be an Orange. \n",
        "\n",
        "The job now is to instead of eyeballing it one at a time like above, use a kNN classifier with, say, $k = 3$ and using the *Euclidean* distance, to determine the correct label for the data in the file  \"kNN_weight_sphericity_test.csv\"\n",
        "\n",
        "Let us first write a distance function to calculate the *Euclidean* distance between two fruits.\n",
        "\n",
        "$distance$ = $sqrt(\\Sigma(a_i -b_i)^2)$"
      ]
    },
    {
      "cell_type": "code",
      "metadata": {
        "id": "OTyseK1iIupA",
        "colab_type": "code",
        "colab": {}
      },
      "source": [
        "import math\n",
        "def dist(a, b):\n",
        "    ''' a is the n-dimesnional co-ordinate of point 1\n",
        "        b is the n-dimensional co-ordinate of point 2'''\n",
        "    sqSum = 0\n",
        "    for i in range(len(a)):\n",
        "        sqSum += (a[i] - b[i]) ** 2\n",
        "    return math.sqrt(sqSum)"
      ],
      "execution_count": 0,
      "outputs": []
    },
    {
      "cell_type": "markdown",
      "metadata": {
        "id": "LvhBe3T2IupC",
        "colab_type": "text"
      },
      "source": [
        "Now let us write code to find the $k$ nearest neighbours of a given fruit"
      ]
    },
    {
      "cell_type": "code",
      "metadata": {
        "id": "_V0HayPIIupD",
        "colab_type": "code",
        "colab": {}
      },
      "source": [
        "def kNN(k, train, given):\n",
        "    distances = []\n",
        "    for t in train.values:              \n",
        "        # loop over all training samples\n",
        "        distances.append((dist(t[:2], given), t[2])) \n",
        "        # compute and store distance of each training sample from the given sample\n",
        "    distances.sort()            \n",
        "    return distances[:k]    # return first k samples = nearest  k distances to the given sample"
      ],
      "execution_count": 0,
      "outputs": []
    },
    {
      "cell_type": "code",
      "metadata": {
        "id": "eJ7k1oVAIupF",
        "colab_type": "code",
        "outputId": "5c143d0b-abce-49e9-a587-f9aa0b722d6f",
        "colab": {
          "base_uri": "https://localhost:8080/",
          "height": 51
        }
      },
      "source": [
        "print(kNN(3, train, (373, 1)))\n",
        "print(kNN(5, train, (373, 1)))"
      ],
      "execution_count": 0,
      "outputs": [
        {
          "output_type": "stream",
          "text": [
            "[(40.00007999992, 'O'), (43.00000465116254, 'O'), (43.00014069744424, 'O')]\n",
            "[(40.00007999992, 'O'), (43.00000465116254, 'O'), (43.00014069744424, 'O'), (47.000004255318956, 'O'), (53.0, 'O')]\n"
          ],
          "name": "stdout"
        }
      ]
    },
    {
      "cell_type": "markdown",
      "metadata": {
        "id": "jcYRtcyoFNrl",
        "colab_type": "text"
      },
      "source": [
        "** Try entering other sample entry for example \" print(kNN(3,train, (250,1))) \"**"
      ]
    },
    {
      "cell_type": "markdown",
      "metadata": {
        "id": "ri7W0qgvIupJ",
        "colab_type": "text"
      },
      "source": [
        "As you can see above, the 3 (and 5) nearest neighbours of the fruit with the characteristics (373, 1) are all Oranges -- label 1; which is what we visually saw when we plotted the point as a black spot in the chart. Of course we need to write another function to get this attribute rather than read, so we have written a function for that. We have used collections.Counter, which we explored in the earlier experiment."
      ]
    },
    {
      "cell_type": "code",
      "metadata": {
        "id": "pC9mUiypIupJ",
        "colab_type": "code",
        "outputId": "6793e10b-70f1-44a0-b45a-1ff18f87d67e",
        "colab": {
          "base_uri": "https://localhost:8080/",
          "height": 51
        }
      },
      "source": [
        "import collections\n",
        "def kNNmax(k, train, given):\n",
        "    tally = collections.Counter()\n",
        "    for nn in kNN(k, train, given):\n",
        "        tally.update(nn[-1])\n",
        "    return tally.most_common(1)[0]\n",
        "print(kNNmax(5, train, (340, 1)))\n",
        "print(kNNmax(7, train, (340, 1)))"
      ],
      "execution_count": 0,
      "outputs": [
        {
          "output_type": "stream",
          "text": [
            "('O', 5)\n",
            "('O', 7)\n"
          ],
          "name": "stdout"
        }
      ]
    },
    {
      "cell_type": "markdown",
      "metadata": {
        "id": "kmjAgo1kIupP",
        "colab_type": "text"
      },
      "source": [
        "Now let us load the test data and find the labels for all of them. Also let us count how many are correct."
      ]
    },
    {
      "cell_type": "code",
      "metadata": {
        "id": "hd-04pt3IupR",
        "colab_type": "code",
        "outputId": "f2af36a0-656b-4d13-871c-c9db1368b2bb",
        "colab": {
          "base_uri": "https://localhost:8080/",
          "height": 34
        }
      },
      "source": [
        "testData = pd.read_csv(FRUITS_TEST1).values[:,:-1]\n",
        "testResults = pd.read_csv(FRUITS_TEST1).values[:,-1]\n",
        "results = []\n",
        "for i, t in enumerate(testData):\n",
        "    results.append(kNNmax(3, train, t)[0] == testResults[i])\n",
        "print(results.count(True), \"are correct\")"
      ],
      "execution_count": 0,
      "outputs": [
        {
          "output_type": "stream",
          "text": [
            "18 are correct\n"
          ],
          "name": "stdout"
        }
      ]
    },
    {
      "cell_type": "code",
      "metadata": {
        "id": "AA7vqVmmAbYG",
        "colab_type": "code",
        "cellView": "both",
        "outputId": "65df26d1-0945-4dbf-cc0a-6c277d639fd9",
        "colab": {
          "base_uri": "https://localhost:8080/",
          "height": 298
        }
      },
      "source": [
        "#@title Linear classifiers learn a separating hyperplane from the training samples. Run the following cell to create a Linear Classifier and plot the output.\n",
        "from sklearn import preprocessing\n",
        "le = preprocessing.LabelEncoder()\n",
        "import numpy as np\n",
        "from sklearn import linear_model\n",
        "from sklearn.preprocessing import MinMaxScaler\n",
        "\n",
        "scaler=MinMaxScaler()\n",
        "\n",
        "X2 = train.iloc[:,:-1].values#np.array([[2,1],[3,4],[4,2],[3,1]])\n",
        "X=scaler.fit_transform(X2)\n",
        "\n",
        "\n",
        "Y = le.fit_transform(train.iloc[:,-1].values)\n",
        "h = .02  # step size in the mesh\n",
        "\n",
        "#clf2 = Perceptron(max_iter=1000).fit(X, Y)\n",
        "clf2 = linear_model.SGDClassifier(max_iter=1000, tol=1e-3)\n",
        "\n",
        "clf2.fit(X,Y)\n",
        "\n",
        "# create a mesh to plot in\n",
        "x_min, x_max = X[:, 0].min() - 1, X[:, 0].max() + 1\n",
        "y_min, y_max = X[:, 1].min() - 1, X[:, 1].max() + 1\n",
        "xx, yy = np.meshgrid(np.arange(x_min, x_max, h),\n",
        "                     np.arange(y_min, y_max, h))\n",
        "\n",
        "# Plot the decision boundary. For that, we will assign a color to each\n",
        "# point in the mesh [x_min, m_max]x[y_min, y_max].\n",
        "fig, ax = plt.subplots()\n",
        "Z = clf2.predict(np.c_[xx.ravel(), yy.ravel()])\n",
        "\n",
        "# Put the result into a color plot\n",
        "Z = Z.reshape(xx.shape)\n",
        "ax.contourf(xx, yy, Z, cmap=plt.cm.Paired)\n",
        "ax.axis('off')\n",
        "\n",
        "# Plot also the training points\n",
        "ax.scatter(X[:, 0], X[:, 1], c=Y)\n",
        "\n",
        "ax.set_title('Linear Classfier')"
      ],
      "execution_count": 0,
      "outputs": [
        {
          "output_type": "execute_result",
          "data": {
            "text/plain": [
              "Text(0.5, 1.0, 'Linear Classfier')"
            ]
          },
          "metadata": {
            "tags": []
          },
          "execution_count": 27
        },
        {
          "output_type": "display_data",
          "data": {
            "image/png": "[encoded data removed]",
            "text/plain": [
              "<Figure size 432x288 with 1 Axes>"
            ]
          },
          "metadata": {
            "tags": []
          }
        }
      ]
    },
    {
      "cell_type": "code",
      "metadata": {
        "id": "U13MFtfPjbRH",
        "colab_type": "code",
        "colab": {}
      },
      "source": [
        "from sklearn.model_selection import train_test_split\n",
        "X, X_test, Y, y_test = train_test_split(X,Y, test_size=0.33, random_state=42)"
      ],
      "execution_count": 0,
      "outputs": []
    },
    {
      "cell_type": "code",
      "metadata": {
        "id": "lW24ZnqGjisL",
        "colab_type": "code",
        "outputId": "b886f2eb-b3fd-4ff8-cbe3-72ace48ceae9",
        "colab": {
          "base_uri": "https://localhost:8080/",
          "height": 298
        }
      },
      "source": [
        "#@title Linear classifiers learn a separating hyperplane from the training samples. Run the following cell to create a Linear Classifier and plot the output.\n",
        "from sklearn import preprocessing\n",
        "le = preprocessing.LabelEncoder()\n",
        "import numpy as np\n",
        "from sklearn import linear_model\n",
        "from sklearn.preprocessing import MinMaxScaler\n",
        "\n",
        "scaler=MinMaxScaler()\n",
        "\n",
        "X2 = train.iloc[:,:-1].values#np.array([[2,1],[3,4],[4,2],[3,1]])\n",
        "X=scaler.fit_transform(X2)\n",
        "\n",
        "\n",
        "Y = le.fit_transform(train.iloc[:,-1].values)\n",
        "h = .02  # step size in the mesh\n",
        "\n",
        "#clf2 = Perceptron(max_iter=1000).fit(X, Y)\n",
        "clf2 = linear_model.SGDClassifier(max_iter=1000, tol=1e-3)\n",
        "\n",
        "clf2.fit(X,Y)\n",
        "\n",
        "# create a mesh to plot in\n",
        "x_min, x_max = X[:, 0].min() - 1, X[:, 0].max() + 1\n",
        "y_min, y_max = X[:, 1].min() - 1, X[:, 1].max() + 1\n",
        "xx, yy = np.meshgrid(np.arange(x_min, x_max, h),\n",
        "                     np.arange(y_min, y_max, h))\n",
        "\n",
        "# Plot the decision boundary. For that, we will assign a color to each\n",
        "# point in the mesh [x_min, m_max]x[y_min, y_max].\n",
        "fig, ax = plt.subplots()\n",
        "Z = clf2.predict(np.c_[xx.ravel(), yy.ravel()])\n",
        "\n",
        "# Put the result into a color plot\n",
        "Z = Z.reshape(xx.shape)\n",
        "ax.contourf(xx, yy, Z, cmap=plt.cm.Paired)\n",
        "ax.axis('off')\n",
        "\n",
        "# Plot also the training points\n",
        "ax.scatter(X[:, 0], X[:, 1], c=Y)\n",
        "\n",
        "ax.set_title('Linear Classfier')"
      ],
      "execution_count": 0,
      "outputs": [
        {
          "output_type": "execute_result",
          "data": {
            "text/plain": [
              "Text(0.5, 1.0, 'Linear Classfier')"
            ]
          },
          "metadata": {
            "tags": []
          },
          "execution_count": 32
        },
        {
          "output_type": "display_data",
          "data": {
            "image/png": "[encoded data removed]",
            "text/plain": [
              "<Figure size 432x288 with 1 Axes>"
            ]
          },
          "metadata": {
            "tags": []
          }
        }
      ]
    },
    {
      "cell_type": "code",
      "metadata": {
        "id": "zn8AlPk5jRvX",
        "colab_type": "code",
        "outputId": "59cc9781-4fa5-4d79-d363-7fbd1f4c0ae4",
        "colab": {
          "base_uri": "https://localhost:8080/",
          "height": 34
        }
      },
      "source": [
        "clf2.score(X_test,y_test)"
      ],
      "execution_count": 0,
      "outputs": [
        {
          "output_type": "execute_result",
          "data": {
            "text/plain": [
              "0.7692307692307693"
            ]
          },
          "metadata": {
            "tags": []
          },
          "execution_count": 33
        }
      ]
    },
    {
      "cell_type": "markdown",
      "metadata": {
        "id": "drrdLaXdIupe",
        "colab_type": "text"
      },
      "source": [
        "**Exercise 1** :: Repeat the above experiment with $k = 5$ and $k = 7$. Explain which $k$ is better and why?"
      ]
    },
    {
      "cell_type": "code",
      "metadata": {
        "id": "B7z6Tpz5Iupg",
        "colab_type": "code",
        "colab": {}
      },
      "source": [
        "## Your code here"
      ],
      "execution_count": 0,
      "outputs": []
    },
    {
      "cell_type": "markdown",
      "metadata": {
        "id": "JoKWsQYYIupk",
        "colab_type": "text"
      },
      "source": [
        "**Exercise 2** :: Repeat the above experiment with $k = 17$. What do you think is happening?"
      ]
    },
    {
      "cell_type": "code",
      "metadata": {
        "id": "LRnE6XnnIupl",
        "colab_type": "code",
        "colab": {}
      },
      "source": [
        "## Your code here"
      ],
      "execution_count": 0,
      "outputs": []
    },
    {
      "cell_type": "markdown",
      "metadata": {
        "id": "uOkCzj-8Iupq",
        "colab_type": "text"
      },
      "source": [
        "**Exercise 3** :: Modify the distance function to ignore the colour feature. Calculate the accuracy on the smaller test dataset."
      ]
    },
    {
      "cell_type": "code",
      "metadata": {
        "id": "Xj4v_8T8Iupq",
        "colab_type": "code",
        "colab": {}
      },
      "source": [
        "def dist(a, b):\n",
        "    ## Your code here"
      ],
      "execution_count": 0,
      "outputs": []
    },
    {
      "cell_type": "markdown",
      "metadata": {
        "id": "sVti8mIzIups",
        "colab_type": "text"
      },
      "source": [
        "**Exercise 4** :: If we used the square of the Euclidean distance, for the distance fuction does it affect the accuracy?"
      ]
    },
    {
      "cell_type": "code",
      "metadata": {
        "id": "O_v2NRyBIupt",
        "colab_type": "code",
        "colab": {}
      },
      "source": [
        "## Your code here"
      ],
      "execution_count": 0,
      "outputs": []
    },
    {
      "cell_type": "markdown",
      "metadata": {
        "id": "XB7s_D6uIupw",
        "colab_type": "text"
      },
      "source": [
        "\n",
        "**Exercise 5** :: If we use the sum of the absolute differences, as the distance metric instead of the Euclidean, how does that affect the accuracy?"
      ]
    },
    {
      "cell_type": "code",
      "metadata": {
        "id": "gBt7YEnTIupx",
        "colab_type": "code",
        "colab": {}
      },
      "source": [
        "## Your code here"
      ],
      "execution_count": 0,
      "outputs": []
    },
    {
      "cell_type": "markdown",
      "metadata": {
        "id": "rW8jOEY3Iup1",
        "colab_type": "text"
      },
      "source": [
        "## Summary\n",
        "In the above experiment, we find that \n",
        " * a simple nearest neighbour method can successfully predict labels with a small number of labelled examples. We also demo a Linear Classifier that separates the two classes, for the same data.\n",
        " * But we also see that the results can go really wrong \n",
        "    - if we make some wrong choices (like weight in Kg, or a very large K).\n",
        "\n",
        "This should remind you about the practical expertise and experimental skills that will become equally important as we move forward."
      ]
    },
    {
      "cell_type": "markdown",
      "metadata": {
        "id": "QgnNMD1tySCy",
        "colab_type": "text"
      },
      "source": [
        "### Please answer the questions below to complete the experiment:"
      ]
    },
    {
      "cell_type": "code",
      "metadata": {
        "id": "gpe3EtT6yh6W",
        "colab_type": "code",
        "colab": {}
      },
      "source": [
        "#@title What does the function \"dist(a, b)\" (used above) return? { run: \"auto\", form-width: \"500px\", display-mode: \"form\" }\n",
        "Answer = \"Distance between Weights of given fruit and training fruit samples\" #@param [\"Distance between Weights of given fruit and training fruit samples\", \"Distance between Sphericity of given fruit and training fruit samples\",\"Distance between Weights and Sphericity of given fruit and training fruit samples\"]\n"
      ],
      "execution_count": 0,
      "outputs": []
    },
    {
      "cell_type": "code",
      "metadata": {
        "id": "1MD9Yvk7yVBp",
        "colab_type": "code",
        "colab": {}
      },
      "source": [
        "#@title How was the experiment? { run: \"auto\", form-width: \"500px\", display-mode: \"form\" }\n",
        "Complexity = \"\" #@param [\"Too Simple, I am wasting time\", \"Good, But Not Challenging for me\", \"Good and Challenging for me\", \"Was Tough, but I did it\", \"Too Difficult for me\"]\n"
      ],
      "execution_count": 0,
      "outputs": []
    },
    {
      "cell_type": "code",
      "metadata": {
        "id": "uXRz43-gyY4y",
        "colab_type": "code",
        "colab": {}
      },
      "source": [
        "#@title If it was very easy, what more you would have liked to have been added? If it was very difficult, what would you have liked to have been removed? { run: \"auto\", display-mode: \"form\" }\n",
        "Additional = \"\" #@param {type:\"string\"}"
      ],
      "execution_count": 0,
      "outputs": []
    },
    {
      "cell_type": "code",
      "metadata": {
        "id": "K4I-6euxybb1",
        "colab_type": "code",
        "colab": {}
      },
      "source": [
        "#@title Can you identify the concepts from the lecture which this experiment covered? { run: \"auto\", vertical-output: true, display-mode: \"form\" }\n",
        "Concepts = \"\" #@param [\"Yes\", \"No\"]"
      ],
      "execution_count": 0,
      "outputs": []
    },
    {
      "cell_type": "code",
      "metadata": {
        "id": "0rhRE4Zhyesw",
        "colab_type": "code",
        "cellView": "form",
        "colab": {}
      },
      "source": [
        "#@title Run this cell to submit your notebook for grading { vertical-output: true }\n",
        "try:\n",
        "  if submission_id:\n",
        "      return_id = submit_notebook()\n",
        "      if return_id : submission_id =return_id\n",
        "  else:\n",
        "      print(\"Please complete the setup first.\")\n",
        "except NameError:\n",
        "  print (\"Please complete the setup first.\")"
      ],
      "execution_count": 0,
      "outputs": []
    },
    {
      "cell_type": "code",
      "metadata": {
        "id": "4DX8R7Bazk84",
        "colab_type": "code",
        "colab": {}
      },
      "source": [
        ""
      ],
      "execution_count": 0,
      "outputs": []
    }
  ]
}