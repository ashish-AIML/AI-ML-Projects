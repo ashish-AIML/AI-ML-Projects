{
  "nbformat": 4,
  "nbformat_minor": 0,
  "metadata": {
    "colab": {
      "name": "Week0-11-FindNeighbourLabels.ipynb",
      "provenance": [],
      "include_colab_link": true
    },
    "kernelspec": {
      "display_name": "Python 3",
      "language": "python",
      "name": "python3"
    }
  },
  "cells": [
    {
      "cell_type": "markdown",
      "metadata": {
        "id": "view-in-github",
        "colab_type": "text"
      },
      "source": [
        "<a href=\"https://colab.research.google.com/github/ashish-AIML/AI-ML-Projects/blob/master/Week0_11_FindNeighbourLabels.ipynb\" target=\"_parent\"><img src=\"https://colab.research.google.com/assets/colab-badge.svg\" alt=\"Open In Colab\"/></a>"
      ]
    },
    {
      "cell_type": "markdown",
      "metadata": {
        "id": "EsBnToRdeVtL",
        "colab_type": "text"
      },
      "source": [
        "# Advanced Certification in AIML\n",
        "## A Program by IIIT-H and TalentSprint\n",
        "### Python at Work"
      ]
    },
    {
      "cell_type": "markdown",
      "metadata": {
        "id": "fNORGE4IeY-t",
        "colab_type": "text"
      },
      "source": [
        "### Setup Steps"
      ]
    },
    {
      "cell_type": "code",
      "metadata": {
        "id": "gW--FKc3ea9k",
        "colab_type": "code",
        "colab": {}
      },
      "source": [
        "#@title Please enter your registration id to start: (e.g. P181900101) { run: \"auto\", display-mode: \"form\" }\n",
        "Id = \"P19A06E_test\" #@param {type:\"string\"}\n"
      ],
      "execution_count": 0,
      "outputs": []
    },
    {
      "cell_type": "code",
      "metadata": {
        "id": "Pk6DlQhvepfB",
        "colab_type": "code",
        "colab": {}
      },
      "source": [
        "#@title Please enter your password (normally your phone number) to continue: { run: \"auto\", display-mode: \"form\" }\n",
        "password = \"981234567\" #@param {type:\"string\"}\n"
      ],
      "execution_count": 0,
      "outputs": []
    },
    {
      "cell_type": "code",
      "metadata": {
        "id": "IPFif0aner8_",
        "colab_type": "code",
        "cellView": "form",
        "outputId": "ea19637c-e624-4d00-c0cf-2922ee0f8264",
        "colab": {
          "base_uri": "https://localhost:8080/",
          "height": 35
        }
      },
      "source": [
        "#@title Run this cell to complete the setup for this Notebook\n",
        "\n",
        "from IPython import get_ipython\n",
        "ipython = get_ipython()\n",
        "  \n",
        "notebook=\"BLR_M1W0_SUN_EXP_11\" #name of the notebook\n",
        "\n",
        "def setup():\n",
        "#  ipython.magic(\"sx pip3 install torch\")\n",
        "    ipython.magic(\"sx wget https://cdn.talentsprint.com/aiml/Experiment_related_data/X1X2.csv\")\n",
        "    ipython.magic(\"sx wget https://cdn.talentsprint.com/aiml/Experiment_related_data/X1X2L.csv\")\n",
        "    print (\"Setup completed successfully\")\n",
        "    return\n",
        "\n",
        "def submit_notebook():\n",
        "    \n",
        "    ipython.magic(\"notebook -e \"+ notebook + \".ipynb\")\n",
        "    \n",
        "    import requests, json, base64\n",
        "\n",
        "    url = \"https://dashboard.talentsprint.com/xp/app/save_notebook_attempts\"\n",
        "    if not submission_id:\n",
        "      data = {\"id\" : getId(), \"notebook\" : notebook, \"mobile\" : getPassword()}\n",
        "      r = requests.post(url, data = data)\n",
        "      r = json.loads(r.text)\n",
        "\n",
        "      if r[\"status\"] == \"Success\":\n",
        "          return r[\"record_id\"]\n",
        "      elif \"err\" in r:        \n",
        "        print(r[\"err\"])\n",
        "        return None        \n",
        "      else:\n",
        "        print (\"Something is wrong, the notebook will not be submitted for grading\")\n",
        "        return None\n",
        "\n",
        "    elif getComplexity() and getAdditional() and getConcepts():\n",
        "      f = open(notebook + \".ipynb\", \"rb\")\n",
        "      file_hash = base64.b64encode(f.read())\n",
        "\n",
        "      data = {\"complexity\" : Complexity, \"additional\" :Additional, \n",
        "              \"concepts\" : Concepts, \"record_id\" : submission_id, \n",
        "              \"id\" : Id, \"file_hash\" : file_hash, \"notebook\" : notebook}\n",
        "\n",
        "      r = requests.post(url, data = data)\n",
        "      print(\"Your submission is successful. Ref:\", submission_id)\n",
        "      return submission_id\n",
        "    else: submission_id\n",
        "    \n",
        "\n",
        "def getAdditional():\n",
        "  try:\n",
        "    if Additional: return Additional      \n",
        "    else: raise NameError('')\n",
        "  except NameError:\n",
        "    print (\"Please answer Additional Question\")\n",
        "    return None\n",
        "\n",
        "def getComplexity():\n",
        "  try:\n",
        "    return Complexity\n",
        "  except NameError:\n",
        "    print (\"Please answer Complexity Question\")\n",
        "    return None\n",
        "  \n",
        "def getConcepts():\n",
        "  try:\n",
        "    return Concepts\n",
        "  except NameError:\n",
        "    print (\"Please answer Concepts Question\")\n",
        "    return None\n",
        "\n",
        "def getId():\n",
        "  try: \n",
        "    return Id if Id else None\n",
        "  except NameError:\n",
        "    return None\n",
        "\n",
        "def getPassword():\n",
        "  try:\n",
        "    return password if password else None\n",
        "  except NameError:\n",
        "    return None\n",
        "\n",
        "submission_id = None\n",
        "### Setup \n",
        "if getPassword() and getId():\n",
        "  submission_id = submit_notebook()\n",
        "  if submission_id:\n",
        "    setup()\n",
        "  \n",
        "else:\n",
        "  print (\"Please complete Id and Password cells before running setup\")\n",
        "\n"
      ],
      "execution_count": 0,
      "outputs": [
        {
          "output_type": "stream",
          "text": [
            "Setup completed successfully\n"
          ],
          "name": "stdout"
        }
      ]
    },
    {
      "cell_type": "code",
      "metadata": {
        "ExecuteTime": {
          "end_time": "2018-09-14T10:56:42.960548Z",
          "start_time": "2018-09-14T10:56:41.966635Z"
        },
        "id": "XzD4xHrbeVtS",
        "colab_type": "code",
        "colab": {}
      },
      "source": [
        "import numpy as np \n",
        "import pandas as pd\n",
        "import math\n",
        "from collections import Counter"
      ],
      "execution_count": 0,
      "outputs": []
    },
    {
      "cell_type": "code",
      "metadata": {
        "ExecuteTime": {
          "end_time": "2018-09-14T10:56:42.980634Z",
          "start_time": "2018-09-14T10:56:42.966181Z"
        },
        "id": "J1syeaiNeVtW",
        "colab_type": "code",
        "colab": {}
      },
      "source": [
        "data = pd.read_csv('X1X2L.csv')"
      ],
      "execution_count": 0,
      "outputs": []
    },
    {
      "cell_type": "code",
      "metadata": {
        "ExecuteTime": {
          "end_time": "2018-09-14T10:56:42.991728Z",
          "start_time": "2018-09-14T10:56:42.983529Z"
        },
        "id": "QWPxFog9eVta",
        "colab_type": "code",
        "colab": {}
      },
      "source": [
        "Labels = data['L'].values\n",
        "data_only = data[['X1', 'X2']]"
      ],
      "execution_count": 0,
      "outputs": []
    },
    {
      "cell_type": "code",
      "metadata": {
        "ExecuteTime": {
          "end_time": "2018-09-14T10:56:43.002175Z",
          "start_time": "2018-09-14T10:56:42.995036Z"
        },
        "id": "CizOIBwReVte",
        "colab_type": "code",
        "colab": {}
      },
      "source": [
        "def dist(a, b):\n",
        "    sqSum = 0\n",
        "    for i in range(len(a)):\n",
        "        sqSum += (a[i] - b[i]) ** 2\n",
        "    return math.sqrt(sqSum)"
      ],
      "execution_count": 0,
      "outputs": []
    },
    {
      "cell_type": "code",
      "metadata": {
        "ExecuteTime": {
          "end_time": "2018-09-14T10:56:43.011473Z",
          "start_time": "2018-09-14T10:56:43.006266Z"
        },
        "id": "3qY7LTEKeVtj",
        "colab_type": "code",
        "colab": {}
      },
      "source": [
        "def find_distance(point1, data_array):\n",
        "    distance = []\n",
        "    for point2 in data_array:\n",
        "        distance.append(dist(point1, point2))\n",
        "    return np.array(distance)"
      ],
      "execution_count": 0,
      "outputs": []
    },
    {
      "cell_type": "code",
      "metadata": {
        "ExecuteTime": {
          "end_time": "2018-09-14T10:56:43.025321Z",
          "start_time": "2018-09-14T10:56:43.016854Z"
        },
        "id": "zWGUlmvZeVtm",
        "colab_type": "code",
        "colab": {}
      },
      "source": [
        "def nearest_points(distances, k):\n",
        "    return np.argsort(distances)[:k]"
      ],
      "execution_count": 0,
      "outputs": []
    },
    {
      "cell_type": "code",
      "metadata": {
        "ExecuteTime": {
          "end_time": "2018-09-14T10:56:43.125391Z",
          "start_time": "2018-09-14T10:56:43.029848Z"
        },
        "id": "fbGVz6dEeVtr",
        "colab_type": "code",
        "outputId": "8f85b313-43f4-424e-b085-68d47f5236de",
        "colab": {
          "base_uri": "https://localhost:8080/",
          "height": 1637
        }
      },
      "source": [
        "k=3\n",
        "for point1 in data_only.values:\n",
        "    distances = find_distance(point1, data_only.values)\n",
        "    print(\"{} Nearest points for the point X1 : {} X2 : {} are \\n\".format(k, point1[0], point1[1]))\n",
        "    print(data.loc[nearest_points(distances,k)])\n",
        "    nearest_labels = data.L.loc[nearest_points(distances,k)].values\n",
        "    count = Counter(nearest_labels)\n",
        "    label = count.most_common(1)[0][0]\n",
        "    print(\"The label of this data point is : {}\".format(label))\n",
        "    print('#########################################################################\\n')"
      ],
      "execution_count": 0,
      "outputs": [
        {
          "output_type": "stream",
          "text": [
            "3 Nearest points for the point X1 : 2.5 X2 : 3.5 are \n",
            "\n",
            "   L   X1   X2\n",
            "0  A  2.5  3.5\n",
            "4  A  2.6  3.6\n",
            "6  A  2.3  3.3\n",
            "The label of this data point is : A\n",
            "#########################################################################\n",
            "\n",
            "3 Nearest points for the point X1 : 4.0 X2 : 5.0 are \n",
            "\n",
            "   L   X1   X2\n",
            "1  B  4.0  5.0\n",
            "7  B  4.1  5.1\n",
            "5  B  3.9  4.9\n",
            "The label of this data point is : B\n",
            "#########################################################################\n",
            "\n",
            "3 Nearest points for the point X1 : 2.1 X2 : 3.1 are \n",
            "\n",
            "   L   X1   X2\n",
            "2  A  2.1  3.1\n",
            "8  A  2.1  3.1\n",
            "6  A  2.3  3.3\n",
            "The label of this data point is : A\n",
            "#########################################################################\n",
            "\n",
            "3 Nearest points for the point X1 : 3.8 X2 : 4.8 are \n",
            "\n",
            "   L   X1   X2\n",
            "3  B  3.8  4.8\n",
            "9  B  3.7  4.7\n",
            "5  B  3.9  4.9\n",
            "The label of this data point is : B\n",
            "#########################################################################\n",
            "\n",
            "3 Nearest points for the point X1 : 2.6 X2 : 3.6 are \n",
            "\n",
            "   L   X1   X2\n",
            "4  A  2.6  3.6\n",
            "0  A  2.5  3.5\n",
            "6  A  2.3  3.3\n",
            "The label of this data point is : A\n",
            "#########################################################################\n",
            "\n",
            "3 Nearest points for the point X1 : 3.9 X2 : 4.9 are \n",
            "\n",
            "   L   X1   X2\n",
            "5  B  3.9  4.9\n",
            "1  B  4.0  5.0\n",
            "3  B  3.8  4.8\n",
            "The label of this data point is : B\n",
            "#########################################################################\n",
            "\n",
            "3 Nearest points for the point X1 : 2.3 X2 : 3.3 are \n",
            "\n",
            "   L   X1   X2\n",
            "6  A  2.3  3.3\n",
            "2  A  2.1  3.1\n",
            "8  A  2.1  3.1\n",
            "The label of this data point is : A\n",
            "#########################################################################\n",
            "\n",
            "3 Nearest points for the point X1 : 4.1 X2 : 5.1 are \n",
            "\n",
            "   L   X1   X2\n",
            "7  B  4.1  5.1\n",
            "1  B  4.0  5.0\n",
            "5  B  3.9  4.9\n",
            "The label of this data point is : B\n",
            "#########################################################################\n",
            "\n",
            "3 Nearest points for the point X1 : 2.1 X2 : 3.1 are \n",
            "\n",
            "   L   X1   X2\n",
            "2  A  2.1  3.1\n",
            "8  A  2.1  3.1\n",
            "6  A  2.3  3.3\n",
            "The label of this data point is : A\n",
            "#########################################################################\n",
            "\n",
            "3 Nearest points for the point X1 : 3.7 X2 : 4.7 are \n",
            "\n",
            "   L   X1   X2\n",
            "9  B  3.7  4.7\n",
            "3  B  3.8  4.8\n",
            "5  B  3.9  4.9\n",
            "The label of this data point is : B\n",
            "#########################################################################\n",
            "\n"
          ],
          "name": "stdout"
        }
      ]
    },
    {
      "cell_type": "markdown",
      "metadata": {
        "id": "LU7cYA33e4Ye",
        "colab_type": "text"
      },
      "source": [
        "### Please answer the questions below to complete the experiment:"
      ]
    },
    {
      "cell_type": "code",
      "metadata": {
        "id": "LqVP1rlBe3Mb",
        "colab_type": "code",
        "colab": {}
      },
      "source": [
        "#@title How was the experiment? { run: \"auto\", form-width: \"500px\", display-mode: \"form\" }\n",
        "Complexity = \"Too Simple, I am wasting time\" #@param [\"Too Simple, I am wasting time\", \"Good, But Not Challenging for me\", \"Good and Challenging me\", \"Was Tough, but I did it\", \"Too Difficult for me\"]\n"
      ],
      "execution_count": 0,
      "outputs": []
    },
    {
      "cell_type": "code",
      "metadata": {
        "id": "AQ9UaLN_e-On",
        "colab_type": "code",
        "colab": {}
      },
      "source": [
        "#@title If it was very easy, what more you would have liked to have been added? If it was very difficult, what would you have liked to have been removed? { run: \"auto\", display-mode: \"form\" }\n",
        "Additional = \"\" #@param {type:\"string\"}"
      ],
      "execution_count": 0,
      "outputs": []
    },
    {
      "cell_type": "code",
      "metadata": {
        "id": "XcguzKxlfAud",
        "colab_type": "code",
        "colab": {}
      },
      "source": [
        "#@title Can you identify the concepts from the lecture which this experiment covered? { run: \"auto\", vertical-output: true, display-mode: \"form\" }\n",
        "Concepts = \"Yes\" #@param [\"Yes\", \"No\"]"
      ],
      "execution_count": 0,
      "outputs": []
    }
  ]
}