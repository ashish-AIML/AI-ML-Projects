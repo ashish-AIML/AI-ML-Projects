{
  "nbformat": 4,
  "nbformat_minor": 0,
  "metadata": {
    "colab": {
      "name": "Week0-09-FindNeighbours.ipynb",
      "provenance": [],
      "include_colab_link": true
    },
    "kernelspec": {
      "display_name": "Python 3",
      "language": "python",
      "name": "python3"
    }
  },
  "cells": [
    {
      "cell_type": "markdown",
      "metadata": {
        "id": "view-in-github",
        "colab_type": "text"
      },
      "source": [
        "<a href=\"https://colab.research.google.com/github/ashish-AIML/AI-ML-Projects/blob/master/Week0_09_FindNeighbours.ipynb\" target=\"_parent\"><img src=\"https://colab.research.google.com/assets/colab-badge.svg\" alt=\"Open In Colab\"/></a>"
      ]
    },
    {
      "cell_type": "markdown",
      "metadata": {
        "id": "s05T3DKxb6nh",
        "colab_type": "text"
      },
      "source": [
        "# Advanced Certification in AIML\n",
        "## A Program by IIIT-H and TalentSprint\n",
        "### Python at Work"
      ]
    },
    {
      "cell_type": "markdown",
      "metadata": {
        "id": "6ta_gdjpcJXs",
        "colab_type": "text"
      },
      "source": [
        "### Setup Steps"
      ]
    },
    {
      "cell_type": "code",
      "metadata": {
        "id": "5LUu1GHGcPDP",
        "colab_type": "code",
        "colab": {}
      },
      "source": [
        "#@title Please enter your registration id to start: (e.g. P181900101) { run: \"auto\", display-mode: \"form\" }\n",
        "Id = \"P19A06E_test\" #@param {type:\"string\"}\n"
      ],
      "execution_count": 0,
      "outputs": []
    },
    {
      "cell_type": "code",
      "metadata": {
        "id": "_GcxpuascRd8",
        "colab_type": "code",
        "colab": {}
      },
      "source": [
        "#@title Please enter your password (normally your phone number) to continue: { run: \"auto\", display-mode: \"form\" }\n",
        "password = \"981234567\" #@param {type:\"string\"}\n"
      ],
      "execution_count": 0,
      "outputs": []
    },
    {
      "cell_type": "code",
      "metadata": {
        "id": "oDHY78S5cUAa",
        "colab_type": "code",
        "cellView": "form",
        "outputId": "58797199-6ba6-4c5f-a4bb-4b2e5184bbd4",
        "colab": {
          "base_uri": "https://localhost:8080/",
          "height": 35
        }
      },
      "source": [
        "#@title Run this cell to complete the setup for this Notebook\n",
        "\n",
        "from IPython import get_ipython\n",
        "ipython = get_ipython()\n",
        "  \n",
        "notebook=\"BLR_M1W0_SUN_EXP_9\" #name of the notebook\n",
        "\n",
        "def setup():\n",
        "#  ipython.magic(\"sx pip3 install torch\")\n",
        "    ipython.magic(\"sx wget https://cdn.talentsprint.com/aiml/Experiment_related_data/X1X2.csv\")\n",
        "    ipython.magic(\"sx wget https://cdn.talentsprint.com/aiml/Experiment_related_data/X1X2L.csv\")\n",
        "    print (\"Setup completed successfully\")\n",
        "    return\n",
        "\n",
        "def submit_notebook():\n",
        "    \n",
        "    ipython.magic(\"notebook -e \"+ notebook + \".ipynb\")\n",
        "    \n",
        "    import requests, json, base64\n",
        "\n",
        "    url = \"https://dashboard.talentsprint.com/xp/app/save_notebook_attempts\"\n",
        "    if not submission_id:\n",
        "      data = {\"id\" : getId(), \"notebook\" : notebook, \"mobile\" : getPassword()}\n",
        "      r = requests.post(url, data = data)\n",
        "      r = json.loads(r.text)\n",
        "\n",
        "      if r[\"status\"] == \"Success\":\n",
        "          return r[\"record_id\"]\n",
        "      elif \"err\" in r:        \n",
        "        print(r[\"err\"])\n",
        "        return None        \n",
        "      else:\n",
        "        print (\"Something is wrong, the notebook will not be submitted for grading\")\n",
        "        return None\n",
        "\n",
        "    elif getComplexity() and getAdditional() and getConcepts():\n",
        "      f = open(notebook + \".ipynb\", \"rb\")\n",
        "      file_hash = base64.b64encode(f.read())\n",
        "\n",
        "      data = {\"complexity\" : Complexity, \"additional\" :Additional, \n",
        "              \"concepts\" : Concepts, \"record_id\" : submission_id, \n",
        "              \"id\" : Id, \"file_hash\" : file_hash, \"notebook\" : notebook}\n",
        "\n",
        "      r = requests.post(url, data = data)\n",
        "      print(\"Your submission is successful. Ref:\", submission_id)\n",
        "      return submission_id\n",
        "    else: submission_id\n",
        "    \n",
        "\n",
        "def getAdditional():\n",
        "  try:\n",
        "    if Additional: return Additional      \n",
        "    else: raise NameError('')\n",
        "  except NameError:\n",
        "    print (\"Please answer Additional Question\")\n",
        "    return None\n",
        "\n",
        "def getComplexity():\n",
        "  try:\n",
        "    return Complexity\n",
        "  except NameError:\n",
        "    print (\"Please answer Complexity Question\")\n",
        "    return None\n",
        "  \n",
        "def getConcepts():\n",
        "  try:\n",
        "    return Concepts\n",
        "  except NameError:\n",
        "    print (\"Please answer Concepts Question\")\n",
        "    return None\n",
        "\n",
        "def getId():\n",
        "  try: \n",
        "    return Id if Id else None\n",
        "  except NameError:\n",
        "    return None\n",
        "\n",
        "def getPassword():\n",
        "  try:\n",
        "    return password if password else None\n",
        "  except NameError:\n",
        "    return None\n",
        "\n",
        "submission_id = None\n",
        "### Setup \n",
        "if getPassword() and getId():\n",
        "  submission_id = submit_notebook()\n",
        "  if submission_id:\n",
        "    setup()\n",
        "  \n",
        "else:\n",
        "  print (\"Please complete Id and Password cells before running setup\")\n",
        "\n"
      ],
      "execution_count": 0,
      "outputs": [
        {
          "output_type": "stream",
          "text": [
            "Setup completed successfully\n"
          ],
          "name": "stdout"
        }
      ]
    },
    {
      "cell_type": "code",
      "metadata": {
        "id": "MrHDABJiQud8",
        "colab_type": "code",
        "colab": {}
      },
      "source": [
        "from google.colab import drive"
      ],
      "execution_count": 0,
      "outputs": []
    },
    {
      "cell_type": "code",
      "metadata": {
        "id": "bdesNlBbQ1FW",
        "colab_type": "code",
        "outputId": "0f5c3b25-4010-415c-e83e-8a32b16e0a69",
        "colab": {
          "base_uri": "https://localhost:8080/",
          "height": 35
        }
      },
      "source": [
        "drive.mount('/content/drive')"
      ],
      "execution_count": 0,
      "outputs": [
        {
          "output_type": "stream",
          "text": [
            "Drive already mounted at /content/drive; to attempt to forcibly remount, call drive.mount(\"/content/drive\", force_remount=True).\n"
          ],
          "name": "stdout"
        }
      ]
    },
    {
      "cell_type": "code",
      "metadata": {
        "id": "SaYkZg6oQ8Po",
        "colab_type": "code",
        "outputId": "4dffedc7-7cb0-40c1-9d18-8f53a8a64034",
        "colab": {
          "base_uri": "https://localhost:8080/",
          "height": 89
        }
      },
      "source": [
        "ls"
      ],
      "execution_count": 0,
      "outputs": [
        {
          "output_type": "stream",
          "text": [
            "BLR_M1W0_SUN_EXP_8.ipynb  Week0-full_gender_height_weight.csv  X1X2L.csv\n",
            "BLR_M1W0_SUN_EXP_9.ipynb  Week0-part_gender_height_weight.csv  X1X2L.csv.1\n",
            "\u001b[0m\u001b[01;34mdrive\u001b[0m/                    X1X2.csv\n",
            "\u001b[01;34msample_data\u001b[0m/              X1X2.csv.1\n"
          ],
          "name": "stdout"
        }
      ]
    },
    {
      "cell_type": "code",
      "metadata": {
        "id": "zLQwKYmyQ9rW",
        "colab_type": "code",
        "colab": {}
      },
      "source": [
        "!cp X1X2.csv drive/My\\ Drive\\"
      ],
      "execution_count": 0,
      "outputs": []
    },
    {
      "cell_type": "code",
      "metadata": {
        "id": "h1RkxRmCRJ4g",
        "colab_type": "code",
        "outputId": "ae3239d5-4dc0-4512-e33d-b63f2f345c5a",
        "colab": {
          "base_uri": "https://localhost:8080/",
          "height": 7109
        }
      },
      "source": [
        "ls drive/My\\ Drive\\"
      ],
      "execution_count": 0,
      "outputs": [
        {
          "output_type": "stream",
          "text": [
            "'1 (1).ipynb'\n",
            " 1.2.gsheet\n",
            " 1.2.xls\n",
            " 1.3.gsheet\n",
            " 1.3.xls\n",
            " 1.4.gsheet\n",
            " 1.4.xls\n",
            " 1.6.gsheet\n",
            " 1.6.xls\n",
            " \u001b[0m\u001b[01;34m2018_04_07_Session11\u001b[0m/\n",
            "'AIML_210618 (1).csv.gsheet'\n",
            " AIML_210618.csv\n",
            " AIML_210618.csv.gsheet\n",
            " \u001b[01;34mAIML-3\u001b[0m/\n",
            " AIML_Accident_severity.gsheet\n",
            " AIML_Accident_severity.ods\n",
            "'AIML Attendance, ChatBot & CFU% (1).xlsx'\n",
            "'AIML Attendance, ChatBot & CFU% (1).xlsx.gsheet'\n",
            "'AIML Attendance, ChatBot & CFU%.gsheet'\n",
            "'AIML Attendance & Score Sheet  (1).xlsx.gsheet'\n",
            "'AIML Attendance & Score Sheet  (2).xlsx.gsheet'\n",
            "'AIML Attendance & Score Sheet  (4) (1).xlsx'\n",
            "'AIML Attendance & Score Sheet  (4) (1).xlsx.gsheet'\n",
            "'AIML Attendance & Score Sheet  (4) (2).xlsx'\n",
            "'AIML Attendance & Score Sheet  (4) (2).xlsx.gsheet'\n",
            "'AIML Attendance & Score Sheet  (4) (3).xlsx.gsheet'\n",
            "'AIML Attendance & Score Sheet  (4) (4).xlsx.gsheet'\n",
            "'AIML Attendance & Score Sheet  (4) (5).xlsx.gsheet'\n",
            "'AIML Attendance & Score Sheet  (4) (6).xlsx.gsheet'\n",
            "'AIML Attendance & Score Sheet  (4).xlsx'\n",
            "'AIML Attendance & Score Sheet  (4).xlsx.gsheet'\n",
            "'AIML Attendance & Score Sheet .xlsx'\n",
            "'AIML Attendance & Score Sheet.xlsx'\n",
            "'AIML Attendance & Score Sheet .xlsx.gsheet'\n",
            "'AIML Attendance & Score Sheet.xlsx.gsheet'\n",
            "\u001b[01;34m'AIML-Batch3&4'\u001b[0m/\n",
            "'AIML Experiment Time capturing sheet Template (1).gsheet'\n",
            "'AIML Experiment Time capturing sheet Template (1).xlsx'\n",
            "'AIML Experiment Time capturing sheet Template (2).gsheet'\n",
            "'AIML Experiment Time capturing sheet Template (3).gsheet'\n",
            "'AIML Experiment Time capturing sheet Template (4).gsheet'\n",
            "'AIML Experiment Time capturing sheet Template.gsheet'\n",
            "'AIML Experiment Time capturing sheet Template.xlsx'\n",
            " AIML.gdoc\n",
            " \u001b[01;34mAIMLH5\u001b[0m/\n",
            "'AIML Hackathon Teams (2).xlsx'\n",
            "'AIML Hackathon Teams (2).xlsx.gsheet'\n",
            "'AIML Hackathon Teams.xlsx'\n",
            "'AIML Hackathon Teams.xlsx.gsheet'\n",
            " \u001b[01;34mAIMLNotebooks\u001b[0m/\n",
            "'AIML_Ops_3_4 (1).xlsx'\n",
            "'AIML_Ops_3_4 (1).xlsx.gsheet'\n",
            "'AIML_Ops_3_4 (4).xlsx'\n",
            "'AIML_Ops_3_4 (4).xlsx.gsheet'\n",
            "'AIML_Schedule (1).xlsx.gsheet'\n",
            "'AIML_Schedule (2).xlsx.gsheet'\n",
            " AIML_Schedule.gsheet\n",
            " AIML_Schedule.xlsx\n",
            " AIML_Schedule.xlsx.gsheet\n",
            " akjsks.gdoc\n",
            " \u001b[01;34mapp\u001b[0m/\n",
            "'April14Session (1).xlsx.gsheet'\n",
            "'April14Session (2).xlsx.gsheet'\n",
            " April14Session.xlsx\n",
            " April14Session.xlsx.gsheet\n",
            "'April15Lab (1).xlsx.gsheet'\n",
            " April15Lab.xlsx\n",
            " April15Lab.xlsx.gsheet\n",
            " April7-session.xlsx.gsheet\n",
            " April8-lab-attendance.xlsx.gsheet\n",
            " April8-Lab-Attendance.xlsx.gsheet\n",
            " attendance1.csv\n",
            " attendance1.csv.gsheet\n",
            "'attendance2 (1).csv.gsheet'\n",
            "'attendance2 (2).csv.gsheet'\n",
            " attendance2.csv\n",
            " attendance2.csv.gsheet\n",
            "'Attendance-Hyd(A).png'\n",
            "'attendancel (2) (1).csv.gsheet'\n",
            "'attendancel (2).csv'\n",
            "'attendancel (2).csv - attendancel (2).csv.csv'\n",
            "'attendancel (2).csv - attendancel (2).csv.csv.gsheet'\n",
            "'attendancel (2).csv.gsheet'\n",
            "'Attendance Sheet For Batch-3 & 4.gsheet'\n",
            "'B3 Hyderabad Attendance (1).gsheet'\n",
            "'B3 Hyderabad Attendance (1).xlsx'\n",
            "'B3 Hyderabad Attendance.gsheet'\n",
            "'B3 Hyderabad Attendance.xlsx'\n",
            "'B3 Hyderabad Mapping.gsheet'\n",
            "'B3 Hyderabad Mapping.xlsx'\n",
            "'B4 Bangalore Attendance (1).gsheet'\n",
            "'B4 Bangalore Attendance.gsheet'\n",
            "'B4 Bangalore Attendance.xlsx'\n",
            " batch3.gsheet\n",
            "'BLR group Lab sheet .gsheet'\n",
            " \u001b[01;34mBronchitis\u001b[0m/\n",
            "'calendar editing.gsheet'\n",
            " Case_Study.ipynb\n",
            "'CFU Check List.gsheet'\n",
            "'CFU LINKS.gsheet'\n",
            "'CFU MArks Sheet .gsheet'\n",
            "'CFU Questions Topic wise.gdoc'\n",
            "'CFU Score Chat.gsheet'\n",
            " \u001b[01;34mChatbot_Team63\u001b[0m/\n",
            "'Check List for h5.gsheet'\n",
            " Classroom_Questions.doc\n",
            " Classroom_Questions.doc.gdoc\n",
            " codeexecute.ipynb\n",
            " colab.doc\n",
            " colab.doc.gdoc\n",
            " \u001b[01;34mColab-docs\u001b[0m/\n",
            "\u001b[01;34m'Colab Notebooks'\u001b[0m/\n",
            "'Consulting proposal.gslides'\n",
            "'Copy of AIML_Game_updated.zip'\n",
            "'Copy of AIML Hackathon Teams.gsheet'\n",
            "'Course Calendar Bangalore.docx'\n",
            "'Course Calendar Bangalore.docx.gdoc'\n",
            "'Course Calendar Hyderabad (1).docx.gdoc'\n",
            "'Course Calendar Hyderabad.docx'\n",
            "'Course Calendar Hyderabad.docx.gdoc'\n",
            " Course.gsheet\n",
            " \u001b[01;34mdata\u001b[0m/\n",
            " Data.zip\n",
            " \u001b[01;34mDecession\u001b[0m/\n",
            "'DecisionTree_Plotting_Demo (1).ipynb'\n",
            " DecisionTree_Plotting_Demo.ipynb\n",
            " diabetic_data.csv\n",
            " Digitalent.gdoc\n",
            "'Discussion Forum Daily Report.gsheet'\n",
            " \u001b[01;34mDrive1\u001b[0m/\n",
            " \u001b[01;34mEnglish\u001b[0m/\n",
            " \u001b[01;34mEnglish_A\u001b[0m/\n",
            "'example3 (1).csv'\n",
            "'example3 (2).csv'\n",
            " example3.csv\n",
            "'Excel sheet For Attendance.gsheet'\n",
            " Ex.csv\n",
            " Ex.csv.gsheet\n",
            " exer-1.csv\n",
            " exer-1.csv.gsheet\n",
            " Exercise_Score.csv\n",
            " Exercise_Score.csv.gsheet\n",
            " Experiment0-Lab03.ipynb\n",
            "'Experiment_1 (1).ipynb'\n",
            " Experiment_1-Solution.ipynb\n",
            " Experiment_2.ipynb\n",
            " Experiment2.ipynb\n",
            " Experiment_4.ipynb\n",
            "'Experiment, HomeWork and Review AVg.gsheet'\n",
            "'Experiment, HomeWork and Review AVg.xlsx'\n",
            "'Experiment, HomeWork and Review AVg.xlsx.gsheet'\n",
            "'Experiment Time Capturing.gsheet'\n",
            "'Experiment wise Details.gform'\n",
            "'Final_Hackathon_score .gsheet'\n",
            "'Final List.gsheet'\n",
            "'Food Items , Budget For 200 per person.gsheet'\n",
            " Google_Colab_.ipynb\n",
            " google_colab_Local.ipynb\n",
            " Google_Colab_Notes.ipynb\n",
            " Google_Collab_Notes.ipynb\n",
            " Google_Drive_Access.ipynb\n",
            "'Google ML CFU.gdoc'\n",
            "'GroupLab_2 (1).ipynb'\n",
            "'GroupLab_2 (2).ipynb'\n",
            "'Groups_B3_Hyd (1).xlsx'\n",
            "'Groups_B3_Hyd (1).xlsx.gsheet'\n",
            "'Groups_B3_Hyd (2).xlsx'\n",
            " Groups_B3_Hyd.gsheet\n",
            " Groups_B3_Hyd.xlsx\n",
            " Groups_B3_Hyd.xlsx.gsheet\n",
            " \u001b[01;34mHackathon-1-chatbot\u001b[0m/\n",
            " Hackathon-2-chatbot.docx\n",
            " Hackathon-2-chatbot.gdoc\n",
            "'Hackathon Grades (1).xlsx'\n",
            "'Hackathon Grades (1).xlsx.gsheet'\n",
            "'Hackathon Grades .xlsx'\n",
            "'Hackathon Grades .xlsx.gsheet'\n",
            "'Hackathon I (1).xlsx.gsheet'\n",
            "'Hackathon I.xlsx'\n",
            "'Hackathon I.xlsx.gsheet'\n",
            " HARVARD.gsheet\n",
            " HARVARD.xlsx\n",
            " HARVARD.xlsx.gsheet\n",
            "'Hitachi Batch 1_2 Final list (1).xlsx'\n",
            "'Hitachi Batch 1_2 Final list (1).xlsx.gsheet'\n",
            "'Hitachi Batch 1_2 Final list.xlsx'\n",
            "'Hitachi Batch 1_2 Final list.xlsx.gsheet'\n",
            " HomeWork.gsheet\n",
            "'HomeWork - Sheet1 (1).csv.gsheet'\n",
            "'HomeWork - Sheet1.csv'\n",
            "'HomeWork - Sheet1.csv.gsheet'\n",
            " Hyd-1.xls\n",
            "'Hyd (1).xls.gsheet'\n",
            " Hyd-1.xls.gsheet\n",
            " Hyd.xls\n",
            " Hyd.xls.gsheet\n",
            " Installation_check.ipynb\n",
            " Installation_documents.docx\n",
            " Installation_documents.gdoc\n",
            "\u001b[01;34m'Intercome msgs'\u001b[0m/\n",
            " iris\n",
            " iris.gv\n",
            " ISOMAP_ABS.pdf\n",
            "'IT_AIML_2018_grade_report_2018-04-03-0743 (1).csv.gsheet'\n",
            "'IT_AIML_2018_grade_report_2018-04-03-0743 (2).csv.gsheet'\n",
            " IT_AIML_2018_grade_report_2018-04-03-0743.csv\n",
            " IT_AIML_2018_grade_report_2018-04-03-0743.csv.gsheet\n",
            " IT_AIML_2018_grade_report_2018-04-03-0743.csv.xlsx\n",
            " IT_AIML_2018_grade_report_2018-04-03-0743.csv.xlsx.gsheet\n",
            "'IT_AIML_2018_grade_report_2018-04-18-1255 (1).csv.gsheet'\n",
            "'IT_AIML_2018_grade_report_2018-04-18-1255 (2).csv.gsheet'\n",
            "'IT_AIML_2018_grade_report_2018-04-18-1255 (3).csv.gsheet'\n",
            "'IT_AIML_2018_grade_report_2018-04-18-1255 (4).csv.gsheet'\n",
            " IT_AIML_2018_grade_report_2018-04-18-1255.csv\n",
            " IT_AIML_2018_grade_report_2018-04-18-1255.csv.gsheet\n",
            "'IT_AIML_2018_grade_report_2018-04-26-0952 (1).csv.gsheet'\n",
            " IT_AIML_2018_grade_report_2018-04-26-0952.csv\n",
            " IT_AIML_2018_grade_report_2018-04-26-0952.csv.gsheet\n",
            "'IT_AIML_2018_grade_report_2018-05-03-0448 (1).csv.gsheet'\n",
            "'IT_AIML_2018_grade_report_2018-05-03-0448 (2).csv.gsheet'\n",
            "'IT_AIML_2018_grade_report_2018-05-03-0448 (3).csv.gsheet'\n",
            " IT_AIML_2018_grade_report_2018-05-03-0448.csv\n",
            " IT_AIML_2018_grade_report_2018-05-03-0448.csv.gsheet\n",
            "'IT_AIML_2018_grade_report_2018-05-08-0538 (1).csv.gsheet'\n",
            "'IT_AIML_2018_grade_report_2018-05-08-0538 (2).csv.gsheet'\n",
            "'IT_AIML_2018_grade_report_2018-05-08-0538 (3).csv.gsheet'\n",
            "'IT_AIML_2018_grade_report_2018-05-08-0538 (4).csv.gsheet'\n",
            "'IT_AIML_2018_grade_report_2018-05-08-0538 (5).csv.gsheet'\n",
            " IT_AIML_2018_grade_report_2018-05-08-0538.csv\n",
            " IT_AIML_2018_grade_report_2018-05-08-0538.csv.gsheet\n",
            "'Java Program To Check Given Number is Factorial or not.gslides'\n",
            "'Java Program To Check Given String Is Palindrome or Not.gslides'\n",
            "'Java program to write Singleton class.gslides'\n",
            " \u001b[01;34mkaggle-2\u001b[0m/\n",
            " kaggle2.ipynb\n",
            " \u001b[01;34mkaggle3\u001b[0m/\n",
            "'Kaggle Competation and Survey.gdoc'\n",
            " \u001b[01;34mkd\u001b[0m/\n",
            " \u001b[01;34mkd1\u001b[0m/\n",
            " Lab06-Experiment1-Part1.ipynb\n",
            " Lab10-Experiment1.ipynb\n",
            " Lab10_Experiment5.ipynb\n",
            " Lab11-Experiment3_cpu.ipynb\n",
            " \u001b[01;34mlab6\u001b[0m/\n",
            " \u001b[01;34mlab-6\u001b[0m/\n",
            "'labattendance (1).csv.gsheet'\n",
            " labattendance.csv\n",
            " labattendance.csv.gsheet\n",
            "'Lab Attendance on 3march.gsheet'\n",
            " \u001b[01;34mlabexperiments\u001b[0m/\n",
            "'Learning Topics In Google ML.gsheet'\n",
            "'Leaves in Feb.gsheet'\n",
            "'livesession 2017 computer programming.gdoc'\n",
            "'Livesession sheet calendar.gdoc'\n",
            "'Livesession sheet youtube.gdoc'\n",
            " M1V2.txt\n",
            " M1V2.txt.gdoc\n",
            " Mails.gdoc\n",
            " Matplotlib.ipynb\n",
            " ML1.pptx\n",
            " ML1.pptx.gslides\n",
            " Module1.gsheet\n",
            " Module1.xls\n",
            " Modul-QuestionWie1seAnalysis.gsheet\n",
            " Modul-QuestionWie1seAnalysis.xls\n",
            " \u001b[01;34mMyDrive\u001b[0m/\n",
            " Myself.gdoc\n",
            " negative-words.txt\n",
            "\u001b[01;34m'New Batch-2'\u001b[0m/\n",
            "'Not attempted students.gsheet'\n",
            " positive-words.txt\n",
            "'Precision,Recall and AccuracyMCQ.gdoc'\n",
            "'prepositional Phrases and uses.doc'\n",
            "'prepositional Phrases and uses.doc.gdoc'\n",
            "'Prepositions- Worksheet.docx'\n",
            "'Prepositions- Worksheet.docx.gdoc'\n",
            "'Prototyping presentation.gslides'\n",
            " \u001b[01;34mPython\u001b[0m/\n",
            " Python_Machine_Learning_Sebastian_Raschka.pdf\n",
            "'Reavalution Marks.gsheet'\n",
            "'RevaluationMarks (1).xlsx.gsheet'\n",
            " RevaluationMarks.xlsx\n",
            " RevaluationMarks.xlsx.gsheet\n",
            "'Review (1).csv.gsheet'\n",
            "'Review (2).csv.gsheet'\n",
            " Review.csv\n",
            " Review.csv.gsheet\n",
            " Review.gsheet\n",
            " \u001b[01;34mRevision\u001b[0m/\n",
            " sample.gsheet\n",
            "'SatLab (1).csv'\n",
            "'SatLab (1).csv.gsheet'\n",
            "'SatLab (2).csv.gsheet'\n",
            " SatLab.csv\n",
            " SatLab.csv.gsheet\n",
            "'SatLab.csv - SatLab.csv.csv'\n",
            "'SatLab.csv - SatLab.csv.csv.gsheet'\n",
            " SatMorning.csv\n",
            " SatMorning.csv.gsheet\n",
            " SatSheet.csv\n",
            " SatSheet.csv.gsheet\n",
            " Saturday_Experiment.ipynb\n",
            "'Scorecard (1).xls'\n",
            "'Scorecard (1).xls.gsheet'\n",
            "'Scorecard (2).xls'\n",
            "'Scorecard (2).xls.gsheet'\n",
            "'Scorecard (3) (1).xls.gsheet'\n",
            "'Scorecard (3).xls'\n",
            "'Scorecard (3).xls.gsheet'\n",
            "'Scorecard (4) (1).xls.gsheet'\n",
            "'Scorecard (4).xls'\n",
            "'Scorecard (4).xls.gsheet'\n",
            "'Scorecard (5).xls.gsheet'\n",
            " Scorecard.xls\n",
            " Scorecard.xls.gsheet\n",
            "'Section_Batch_ExcelReport (1).xls'\n",
            "'Section_Batch_ExcelReport (1).xls.gsheet'\n",
            "'Section_Batch_ExcelReport (2) (1).xls'\n",
            "'Section_Batch_ExcelReport (2) (1).xls.gsheet'\n",
            "'Section_Batch_ExcelReport (2) (2).xls'\n",
            "'Section_Batch_ExcelReport (2) (2).xls.gsheet'\n",
            "'Section_Batch_ExcelReport (2).xls'\n",
            "'Section_Batch_ExcelReport (2).xls.gsheet'\n",
            "'Section_Batch_ExcelReport (3) (1).xls.gsheet'\n",
            "'Section_Batch_ExcelReport (3) (2).xls.gsheet'\n",
            "'Section_Batch_ExcelReport (3).xls'\n",
            "'Section_Batch_ExcelReport (3).xls.gsheet'\n",
            "'Section_Batch_ExcelReport (4).xls.gsheet'\n",
            " Section_Batch_ExcelReport.xls\n",
            " Section_Batch_ExcelReport.xls.gsheet\n",
            " \u001b[01;34mSession-09\u001b[0m/\n",
            " \u001b[01;34mSession10\u001b[0m/\n",
            " \u001b[01;34mSession-11\u001b[0m/\n",
            " \u001b[01;34mSession-11-Experiments\u001b[0m/\n",
            " \u001b[01;34mSession11-work\u001b[0m/\n",
            " \u001b[01;34mSession-14\u001b[0m/\n",
            "'Session 3 ,4 Experiment - CFU.gdoc'\n",
            "'session-7 cfu.gdoc'\n",
            "' Sheet1.csv'\n",
            "' Sheet1.csv.gsheet'\n",
            " sheet.csv.gsheet\n",
            " Source.gv\n",
            " \u001b[01;34mspeechdata2\u001b[0m/\n",
            " speech_data.zip\n",
            " stopwords.txt\n",
            " Sunday.csv\n",
            " Sunday.csv.gsheet\n",
            "'SundayLab (1).csv.gsheet'\n",
            " Sundaylab.csv\n",
            " SundayLab.csv\n",
            " Sundaylab.csv.gsheet\n",
            " SundayLab.csv.gsheet\n",
            "'~$Talent sprint talk.pptx'\n",
            "'Test Document.gdoc'\n",
            "'Top 6 important concepts for database managment.gslides'\n",
            " Untitled\n",
            "'Untitled0 (1).ipynb'\n",
            " Untitled0.ipynb\n",
            " Untitled1.ipynb\n",
            " Untitled2.ipynb\n",
            " Untitled3.ipynb\n",
            "'Untitled document (1).gdoc'\n",
            "'Untitled document (2).gdoc'\n",
            "'Untitled document (3).gdoc'\n",
            "'Untitled document (4).gdoc'\n",
            "'Untitled document (5).gdoc'\n",
            "'Untitled document (6).gdoc'\n",
            "'Untitled document (7).gdoc'\n",
            "'Untitled document (8).gdoc'\n",
            "'Untitled document.gdoc'\n",
            "'Untitled presentation (1).gslides'\n",
            "'Untitled presentation.gslides'\n",
            "'Untitled spreadsheet (1).gsheet'\n",
            "'Untitled spreadsheet (2).gsheet'\n",
            "'Untitled spreadsheet (3).gsheet'\n",
            "'Untitled spreadsheet (4).gsheet'\n",
            "'Untitled spreadsheet.gsheet'\n",
            " week10.doc\n",
            " week10.gdoc\n",
            "'Week-1 CFU Extras.gdoc'\n",
            "'WEEK1 Chart.gsheet'\n",
            "'WEEK_3 (1).docx'\n",
            "'WEEK_3 (1).docx.gdoc'\n",
            "'WEEK_3 (2).docx'\n",
            "'WEEK_3 (2).docx.gdoc'\n",
            "'WEEK_3 (3).docx.gdoc'\n",
            "'WEEK_3 (4).docx.gdoc'\n",
            "'WEEK_3 (5).docx.gdoc'\n",
            "'WEEK_3 (6).docx.gdoc'\n",
            "'WEEK_3 (7).docx.gdoc'\n",
            " WEEK_3.docx\n",
            " WEEK_3.docx.gdoc\n",
            "'week of and BLR Food.gsheet'\n",
            " X1X2.csv\n"
          ],
          "name": "stdout"
        }
      ]
    },
    {
      "cell_type": "code",
      "metadata": {
        "ExecuteTime": {
          "end_time": "2018-09-14T10:30:59.303002Z",
          "start_time": "2018-09-14T10:30:58.346719Z"
        },
        "id": "a6M5a6aXb6no",
        "colab_type": "code",
        "colab": {}
      },
      "source": [
        "import numpy as np \n",
        "import pandas as pd\n",
        "import math"
      ],
      "execution_count": 0,
      "outputs": []
    },
    {
      "cell_type": "code",
      "metadata": {
        "ExecuteTime": {
          "end_time": "2018-09-14T10:30:59.321706Z",
          "start_time": "2018-09-14T10:30:59.307898Z"
        },
        "id": "RPQEOY13b6ns",
        "colab_type": "code",
        "colab": {}
      },
      "source": [
        "data = pd.read_csv('X1X2.csv')"
      ],
      "execution_count": 0,
      "outputs": []
    },
    {
      "cell_type": "code",
      "metadata": {
        "id": "ZHThsd7Nb6nx",
        "colab_type": "code",
        "outputId": "d1f0032f-732e-44d7-c7ce-0fdc844d2a88",
        "colab": {
          "base_uri": "https://localhost:8080/",
          "height": 359
        }
      },
      "source": [
        "data"
      ],
      "execution_count": 0,
      "outputs": [
        {
          "output_type": "execute_result",
          "data": {
            "text/html": [
              "<div>\n",
              "<style scoped>\n",
              "    .dataframe tbody tr th:only-of-type {\n",
              "        vertical-align: middle;\n",
              "    }\n",
              "\n",
              "    .dataframe tbody tr th {\n",
              "        vertical-align: top;\n",
              "    }\n",
              "\n",
              "    .dataframe thead th {\n",
              "        text-align: right;\n",
              "    }\n",
              "</style>\n",
              "<table border=\"1\" class=\"dataframe\">\n",
              "  <thead>\n",
              "    <tr style=\"text-align: right;\">\n",
              "      <th></th>\n",
              "      <th>X1</th>\n",
              "      <th>X2</th>\n",
              "    </tr>\n",
              "  </thead>\n",
              "  <tbody>\n",
              "    <tr>\n",
              "      <th>0</th>\n",
              "      <td>2.5</td>\n",
              "      <td>3.5</td>\n",
              "    </tr>\n",
              "    <tr>\n",
              "      <th>1</th>\n",
              "      <td>4.0</td>\n",
              "      <td>5.0</td>\n",
              "    </tr>\n",
              "    <tr>\n",
              "      <th>2</th>\n",
              "      <td>2.1</td>\n",
              "      <td>3.1</td>\n",
              "    </tr>\n",
              "    <tr>\n",
              "      <th>3</th>\n",
              "      <td>3.8</td>\n",
              "      <td>4.8</td>\n",
              "    </tr>\n",
              "    <tr>\n",
              "      <th>4</th>\n",
              "      <td>2.6</td>\n",
              "      <td>3.6</td>\n",
              "    </tr>\n",
              "    <tr>\n",
              "      <th>5</th>\n",
              "      <td>3.9</td>\n",
              "      <td>4.9</td>\n",
              "    </tr>\n",
              "    <tr>\n",
              "      <th>6</th>\n",
              "      <td>2.3</td>\n",
              "      <td>3.3</td>\n",
              "    </tr>\n",
              "    <tr>\n",
              "      <th>7</th>\n",
              "      <td>4.1</td>\n",
              "      <td>5.1</td>\n",
              "    </tr>\n",
              "    <tr>\n",
              "      <th>8</th>\n",
              "      <td>2.1</td>\n",
              "      <td>3.1</td>\n",
              "    </tr>\n",
              "    <tr>\n",
              "      <th>9</th>\n",
              "      <td>3.7</td>\n",
              "      <td>4.7</td>\n",
              "    </tr>\n",
              "  </tbody>\n",
              "</table>\n",
              "</div>"
            ],
            "text/plain": [
              "    X1   X2\n",
              "0  2.5  3.5\n",
              "1  4.0  5.0\n",
              "2  2.1  3.1\n",
              "3  3.8  4.8\n",
              "4  2.6  3.6\n",
              "5  3.9  4.9\n",
              "6  2.3  3.3\n",
              "7  4.1  5.1\n",
              "8  2.1  3.1\n",
              "9  3.7  4.7"
            ]
          },
          "metadata": {
            "tags": []
          },
          "execution_count": 6
        }
      ]
    },
    {
      "cell_type": "code",
      "metadata": {
        "ExecuteTime": {
          "end_time": "2018-09-14T10:30:59.330692Z",
          "start_time": "2018-09-14T10:30:59.325052Z"
        },
        "id": "jr0-WioSb6n3",
        "colab_type": "code",
        "colab": {}
      },
      "source": [
        "def dist(a, b):\n",
        "    sqSum = 0\n",
        "    for i in range(len(a)):\n",
        "        sqSum += (a[i] - b[i]) ** 2\n",
        "    return math.sqrt(sqSum)"
      ],
      "execution_count": 0,
      "outputs": []
    },
    {
      "cell_type": "code",
      "metadata": {
        "ExecuteTime": {
          "end_time": "2018-09-14T10:30:59.338757Z",
          "start_time": "2018-09-14T10:30:59.333958Z"
        },
        "id": "Xb72CCxdb6n8",
        "colab_type": "code",
        "colab": {}
      },
      "source": [
        "def find_distance(point1, data_array):\n",
        "    distance = []\n",
        "    for point2 in data_array:\n",
        "        distance.append(dist(point1, point2))\n",
        "    return np.array(distance)"
      ],
      "execution_count": 0,
      "outputs": []
    },
    {
      "cell_type": "code",
      "metadata": {
        "id": "OvVQMi-NNvlj",
        "colab_type": "code",
        "outputId": "ba1ca85a-4ad4-4188-e385-dd746ec42f3f",
        "colab": {
          "base_uri": "https://localhost:8080/",
          "height": 35
        }
      },
      "source": [
        "distance"
      ],
      "execution_count": 0,
      "outputs": [
        {
          "output_type": "execute_result",
          "data": {
            "text/plain": [
              "[]"
            ]
          },
          "metadata": {
            "tags": []
          },
          "execution_count": 19
        }
      ]
    },
    {
      "cell_type": "code",
      "metadata": {
        "ExecuteTime": {
          "end_time": "2018-09-14T10:30:59.348870Z",
          "start_time": "2018-09-14T10:30:59.342607Z"
        },
        "id": "27inSLxNb6oA",
        "colab_type": "code",
        "colab": {}
      },
      "source": [
        "def nearest_points(distances, k):\n",
        "    return np.argsort(distances)[:k]"
      ],
      "execution_count": 0,
      "outputs": []
    },
    {
      "cell_type": "code",
      "metadata": {
        "ExecuteTime": {
          "end_time": "2018-09-14T10:41:11.951461Z",
          "start_time": "2018-09-14T10:41:11.894699Z"
        },
        "id": "DKGEGb7ob6oE",
        "colab_type": "code",
        "outputId": "49130224-ed34-4816-916a-9154d6172439",
        "colab": {
          "base_uri": "https://localhost:8080/",
          "height": 1097
        }
      },
      "source": [
        "k = 1\n",
        "for point1 in data.values:\n",
        "    distances = find_distance(point1, data.values)\n",
        "    print(\"{} Nearest points for the point X1 : {} X2 : {} are \\n\".format(k, point1[0], point1[1]))\n",
        "    print(data.loc[nearest_points(distances,k)])\n",
        "    print('\\n')"
      ],
      "execution_count": 0,
      "outputs": [
        {
          "output_type": "stream",
          "text": [
            "1 Nearest points for the point X1 : 2.5 X2 : 3.5 are \n",
            "\n",
            "    X1   X2\n",
            "0  2.5  3.5\n",
            "\n",
            "\n",
            "1 Nearest points for the point X1 : 4.0 X2 : 5.0 are \n",
            "\n",
            "    X1   X2\n",
            "1  4.0  5.0\n",
            "\n",
            "\n",
            "1 Nearest points for the point X1 : 2.1 X2 : 3.1 are \n",
            "\n",
            "    X1   X2\n",
            "2  2.1  3.1\n",
            "\n",
            "\n",
            "1 Nearest points for the point X1 : 3.8 X2 : 4.8 are \n",
            "\n",
            "    X1   X2\n",
            "3  3.8  4.8\n",
            "\n",
            "\n",
            "1 Nearest points for the point X1 : 2.6 X2 : 3.6 are \n",
            "\n",
            "    X1   X2\n",
            "4  2.6  3.6\n",
            "\n",
            "\n",
            "1 Nearest points for the point X1 : 3.9 X2 : 4.9 are \n",
            "\n",
            "    X1   X2\n",
            "5  3.9  4.9\n",
            "\n",
            "\n",
            "1 Nearest points for the point X1 : 2.3 X2 : 3.3 are \n",
            "\n",
            "    X1   X2\n",
            "6  2.3  3.3\n",
            "\n",
            "\n",
            "1 Nearest points for the point X1 : 4.1 X2 : 5.1 are \n",
            "\n",
            "    X1   X2\n",
            "7  4.1  5.1\n",
            "\n",
            "\n",
            "1 Nearest points for the point X1 : 2.1 X2 : 3.1 are \n",
            "\n",
            "    X1   X2\n",
            "2  2.1  3.1\n",
            "\n",
            "\n",
            "1 Nearest points for the point X1 : 3.7 X2 : 4.7 are \n",
            "\n",
            "    X1   X2\n",
            "9  3.7  4.7\n",
            "\n",
            "\n"
          ],
          "name": "stdout"
        }
      ]
    },
    {
      "cell_type": "code",
      "metadata": {
        "id": "1pOEI4gpHrtQ",
        "colab_type": "code",
        "outputId": "bff5d20c-ca13-4658-e2c0-6d44e383786b",
        "colab": {
          "base_uri": "https://localhost:8080/",
          "height": 1551
        }
      },
      "source": [
        "import matplotlib.pyplot as plt\n",
        "import pandas as pd\n",
        "\n",
        "k = 2\n",
        "for point1 in data.values:\n",
        "    distances = find_distance(point1, data.values)\n",
        "    print(\"{} Nearest points for the point X1 : {} X2 : {} are \\n\".format(k, point1[0], point1[1]))\n",
        "    print(data.loc[nearest_points(distances,k)])\n",
        "    print('\\n')\n",
        "data = pd.read_csv('X1X2.csv')\n",
        "plt.plot(point1[0], point1[1], '.')\n",
        "plt.xlabel(\"X\")\n",
        "plt.ylabel(\"Y\")\n",
        "plt.show()"
      ],
      "execution_count": 0,
      "outputs": [
        {
          "output_type": "stream",
          "text": [
            "2 Nearest points for the point X1 : 2.5 X2 : 3.5 are \n",
            "\n",
            "    X1   X2\n",
            "0  2.5  3.5\n",
            "4  2.6  3.6\n",
            "\n",
            "\n",
            "2 Nearest points for the point X1 : 4.0 X2 : 5.0 are \n",
            "\n",
            "    X1   X2\n",
            "1  4.0  5.0\n",
            "7  4.1  5.1\n",
            "\n",
            "\n",
            "2 Nearest points for the point X1 : 2.1 X2 : 3.1 are \n",
            "\n",
            "    X1   X2\n",
            "2  2.1  3.1\n",
            "8  2.1  3.1\n",
            "\n",
            "\n",
            "2 Nearest points for the point X1 : 3.8 X2 : 4.8 are \n",
            "\n",
            "    X1   X2\n",
            "3  3.8  4.8\n",
            "9  3.7  4.7\n",
            "\n",
            "\n",
            "2 Nearest points for the point X1 : 2.6 X2 : 3.6 are \n",
            "\n",
            "    X1   X2\n",
            "4  2.6  3.6\n",
            "0  2.5  3.5\n",
            "\n",
            "\n",
            "2 Nearest points for the point X1 : 3.9 X2 : 4.9 are \n",
            "\n",
            "    X1   X2\n",
            "5  3.9  4.9\n",
            "1  4.0  5.0\n",
            "\n",
            "\n",
            "2 Nearest points for the point X1 : 2.3 X2 : 3.3 are \n",
            "\n",
            "    X1   X2\n",
            "6  2.3  3.3\n",
            "2  2.1  3.1\n",
            "\n",
            "\n",
            "2 Nearest points for the point X1 : 4.1 X2 : 5.1 are \n",
            "\n",
            "    X1   X2\n",
            "7  4.1  5.1\n",
            "1  4.0  5.0\n",
            "\n",
            "\n",
            "2 Nearest points for the point X1 : 2.1 X2 : 3.1 are \n",
            "\n",
            "    X1   X2\n",
            "2  2.1  3.1\n",
            "8  2.1  3.1\n",
            "\n",
            "\n",
            "2 Nearest points for the point X1 : 3.7 X2 : 4.7 are \n",
            "\n",
            "    X1   X2\n",
            "9  3.7  4.7\n",
            "3  3.8  4.8\n",
            "\n",
            "\n"
          ],
          "name": "stdout"
        },
        {
          "output_type": "display_data",
          "data": {
            "image/png": "[encoded data removed]",
            "text/plain": [
              "<matplotlib.figure.Figure at 0x7f1183930e48>"
            ]
          },
          "metadata": {
            "tags": []
          }
        }
      ]
    },
    {
      "cell_type": "markdown",
      "metadata": {
        "id": "37b3oFsPb6oK",
        "colab_type": "text"
      },
      "source": [
        "#### Practice: \n",
        " * Confirm by printing distances along with X1 and X2\n",
        " * Plot the points and visually verify"
      ]
    },
    {
      "cell_type": "markdown",
      "metadata": {
        "id": "IUyESOj1dcLp",
        "colab_type": "text"
      },
      "source": [
        "### Please answer the questions below to complete the experiment:"
      ]
    },
    {
      "cell_type": "code",
      "metadata": {
        "id": "CJxnT0NLb6oM",
        "colab_type": "code",
        "colab": {}
      },
      "source": [
        "#@title How was the experiment? { run: \"auto\", form-width: \"500px\", display-mode: \"form\" }\n",
        "Complexity = \"Too Simple, I am wasting time\" #@param [\"Too Simple, I am wasting time\", \"Good, But Not Challenging for me\", \"Good and Challenging me\", \"Was Tough, but I did it\", \"Too Difficult for me\"]\n"
      ],
      "execution_count": 0,
      "outputs": []
    },
    {
      "cell_type": "code",
      "metadata": {
        "id": "oc4W23WodiYX",
        "colab_type": "code",
        "colab": {}
      },
      "source": [
        "#@title If it was very easy, what more you would have liked to have been added? If it was very difficult, what would you have liked to have been removed? { run: \"auto\", display-mode: \"form\" }\n",
        "Additional = \"\" #@param {type:\"string\"}"
      ],
      "execution_count": 0,
      "outputs": []
    },
    {
      "cell_type": "code",
      "metadata": {
        "id": "nqWy2P9mdkDd",
        "colab_type": "code",
        "colab": {}
      },
      "source": [
        "#@title Can you identify the concepts from the lecture which this experiment covered? { run: \"auto\", vertical-output: true, display-mode: \"form\" }\n",
        "Concepts = \"Yes\" #@param [\"Yes\", \"No\"]"
      ],
      "execution_count": 0,
      "outputs": []
    },
    {
      "cell_type": "code",
      "metadata": {
        "id": "Irh1IrZtdlvb",
        "colab_type": "code",
        "cellView": "form",
        "colab": {}
      },
      "source": [
        "#@title Run this cell to submit your notebook for grading { vertical-output: true }\n",
        "try:\n",
        "  if submission_id:\n",
        "      return_id = submit_notebook()\n",
        "      if return_id : submission_id =return_id\n",
        "  else:\n",
        "      print(\"Please complete the setup first.\")\n",
        "except NameError:\n",
        "  print (\"Please complete the setup first.\")"
      ],
      "execution_count": 0,
      "outputs": []
    }
  ]
}