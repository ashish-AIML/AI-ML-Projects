{
  "nbformat": 4,
  "nbformat_minor": 0,
  "metadata": {
    "colab": {
      "name": "Week0-02-lists.ipynb",
      "provenance": [],
      "include_colab_link": true
    },
    "kernelspec": {
      "display_name": "Python 3",
      "language": "python",
      "name": "python3"
    }
  },
  "cells": [
    {
      "cell_type": "markdown",
      "metadata": {
        "id": "view-in-github",
        "colab_type": "text"
      },
      "source": [
        "<a href=\"https://colab.research.google.com/github/ashish-AIML/AI-ML-Projects/blob/master/Week0_02_lists.ipynb\" target=\"_parent\"><img src=\"https://colab.research.google.com/assets/colab-badge.svg\" alt=\"Open In Colab\"/></a>"
      ]
    },
    {
      "cell_type": "markdown",
      "metadata": {
        "id": "PjerStuq6R2n",
        "colab_type": "text"
      },
      "source": [
        "# Advanced Certification in AIML\n",
        "## A Program by IIIT-H and TalentSprint\n",
        "### Introduction to Python\n",
        "#### Lists and strings\n",
        "#### for\n",
        "Lists are the simplest containers that are an integral part of the Python language. **for** loops are the standard way to iterate over all types of containers; so we will look at both of them together."
      ]
    },
    {
      "cell_type": "markdown",
      "metadata": {
        "id": "dNChO-oOMR2c",
        "colab_type": "text"
      },
      "source": [
        "### Setup Steps"
      ]
    },
    {
      "cell_type": "code",
      "metadata": {
        "id": "QBwX1TPQ6b9v",
        "colab_type": "code",
        "colab": {}
      },
      "source": [
        "#@title Please enter your registration id to start: (e.g. P181900101) { run: \"auto\", display-mode: \"form\" }\n",
        "Id = \"P181901605\" #@param {type:\"string\"}\n"
      ],
      "execution_count": 0,
      "outputs": []
    },
    {
      "cell_type": "code",
      "metadata": {
        "id": "86qdskpYMWjL",
        "colab_type": "code",
        "colab": {}
      },
      "source": [
        "#@title Please enter your password (normally your phone number) to continue: { run: \"auto\", display-mode: \"form\" }\n",
        "password = \"9900013690\" #@param {type:\"string\"}\n"
      ],
      "execution_count": 0,
      "outputs": []
    },
    {
      "cell_type": "code",
      "metadata": {
        "id": "3dx1DDYEMX0S",
        "colab_type": "code",
        "cellView": "form",
        "outputId": "e5cebb10-d198-4ec0-9b8e-cb15287155f6",
        "colab": {
          "base_uri": "https://localhost:8080/",
          "height": 34
        }
      },
      "source": [
        "#@title Run this cell to complete the setup for this Notebook\n",
        "\n",
        "from IPython import get_ipython\n",
        "ipython = get_ipython()\n",
        "  \n",
        "notebook=\"BLR_M1W0_SUN_EXP_2\" #name of the notebook\n",
        "\n",
        "def setup():\n",
        "#  ipython.magic(\"sx pip3 install torch\")\n",
        "   \n",
        "   print (\"Setup completed successfully\")\n",
        "   return\n",
        "\n",
        "def submit_notebook():\n",
        "    \n",
        "    ipython.magic(\"notebook -e \"+ notebook + \".ipynb\")\n",
        "    \n",
        "    import requests, json, base64\n",
        "\n",
        "    url = \"https://dashboard.talentsprint.com/xp/app/save_notebook_attempts\"\n",
        "    if not submission_id:\n",
        "      data = {\"id\" : getId(), \"notebook\" : notebook, \"mobile\" : getPassword()}\n",
        "      r = requests.post(url, data = data)\n",
        "      r = json.loads(r.text)\n",
        "\n",
        "      if r[\"status\"] == \"Success\":\n",
        "          return r[\"record_id\"]\n",
        "      elif \"err\" in r:        \n",
        "        print(r[\"err\"])\n",
        "        return None        \n",
        "      else:\n",
        "        print (\"Something is wrong, the notebook will not be submitted for grading\")\n",
        "        return None\n",
        "\n",
        "    elif getComplexity() and getAdditional() and getConcepts():\n",
        "      f = open(notebook + \".ipynb\", \"rb\")\n",
        "      file_hash = base64.b64encode(f.read())\n",
        "\n",
        "      data = {\"complexity\" : Complexity, \"additional\" :Additional, \n",
        "              \"concepts\" : Concepts, \"record_id\" : submission_id, \n",
        "              \"id\" : Id, \"file_hash\" : file_hash, \"notebook\" : notebook}\n",
        "\n",
        "      r = requests.post(url, data = data)\n",
        "      print(\"Your submission is successful. Ref:\", submission_id)\n",
        "      return submission_id\n",
        "    else: submission_id\n",
        "    \n",
        "\n",
        "def getAdditional():\n",
        "  try:\n",
        "    if Additional: return Additional      \n",
        "    else: raise NameError('')\n",
        "  except NameError:\n",
        "    print (\"Please answer Additional Question\")\n",
        "    return None\n",
        "\n",
        "def getComplexity():\n",
        "  try:\n",
        "    return Complexity\n",
        "  except NameError:\n",
        "    print (\"Please answer Complexity Question\")\n",
        "    return None\n",
        "  \n",
        "def getConcepts():\n",
        "  try:\n",
        "    return Concepts\n",
        "  except NameError:\n",
        "    print (\"Please answer Concepts Question\")\n",
        "    return None\n",
        "\n",
        "def getId():\n",
        "  try: \n",
        "    return Id if Id else None\n",
        "  except NameError:\n",
        "    return None\n",
        "\n",
        "def getPassword():\n",
        "  try:\n",
        "    return password if password else None\n",
        "  except NameError:\n",
        "    return None\n",
        "\n",
        "submission_id = None\n",
        "### Setup \n",
        "if getPassword() and getId():\n",
        "  submission_id = submit_notebook()\n",
        "  if submission_id:\n",
        "    setup()\n",
        "  \n",
        "else:\n",
        "  print (\"Please complete Id and Password cells before running setup\")\n",
        "\n"
      ],
      "execution_count": 0,
      "outputs": [
        {
          "output_type": "stream",
          "text": [
            "Setup completed successfully\n"
          ],
          "name": "stdout"
        }
      ]
    },
    {
      "cell_type": "markdown",
      "metadata": {
        "id": "TcAdxy7dW6Wc",
        "colab_type": "text"
      },
      "source": [
        "#### strings\n",
        "Python strings can be enlosed in single quotes or double quotes or triple quotes! Let us look at each of them"
      ]
    },
    {
      "cell_type": "code",
      "metadata": {
        "id": "Sw7fMNEOW9bi",
        "colab_type": "code",
        "outputId": "ede1d65b-5bd5-4e1a-abe6-e00bb90cd411",
        "colab": {
          "base_uri": "https://localhost:8080/",
          "height": 34
        }
      },
      "source": [
        "grading = \"Tests, Quizzes, Individual Labs, Group Labs and Hackathons\"\n",
        "print(grading)"
      ],
      "execution_count": 0,
      "outputs": [
        {
          "output_type": "stream",
          "text": [
            "Tests, Quizzes, Individual Labs, Group Labs and Hackathons\n"
          ],
          "name": "stdout"
        }
      ]
    },
    {
      "cell_type": "markdown",
      "metadata": {
        "id": "OzDsLF1j7Eh6",
        "colab_type": "text"
      },
      "source": [
        ""
      ]
    },
    {
      "cell_type": "code",
      "metadata": {
        "id": "so4ipaxUXMPS",
        "colab_type": "code",
        "outputId": "c4d6147f-415d-4124-d681-de79c6ddb633",
        "colab": {
          "base_uri": "https://localhost:8080/",
          "height": 34
        }
      },
      "source": [
        "tests = \"CFU's, Analytical, References and Comprehension\"\n",
        "print(tests)"
      ],
      "execution_count": 0,
      "outputs": [
        {
          "output_type": "stream",
          "text": [
            "CFU's, Analytical, References and Comprehension\n"
          ],
          "name": "stdout"
        }
      ]
    },
    {
      "cell_type": "markdown",
      "metadata": {
        "id": "3gTJCEKqXox4",
        "colab_type": "text"
      },
      "source": [
        "Note how in the string *tests* the single quote is accepted as part of the string without any special escpae mechanism. Similarly we can create and use strings with double quotes inside by enclosing the whole string in single quotes. Here is an example."
      ]
    },
    {
      "cell_type": "code",
      "metadata": {
        "id": "28eCGUkJXoY2",
        "colab_type": "code",
        "outputId": "49da1e10-b188-4e02-bf87-9a5536da7011",
        "colab": {
          "base_uri": "https://localhost:8080/",
          "height": 35
        }
      },
      "source": [
        "faq = 'Almost all ask the question \"What is the best k?\" when doing kNN'\n",
        "print(faq)"
      ],
      "execution_count": 0,
      "outputs": [
        {
          "output_type": "stream",
          "text": [
            "Almost all ask the question \"What is the best k?\" when doing kNN\n"
          ],
          "name": "stdout"
        }
      ]
    },
    {
      "cell_type": "markdown",
      "metadata": {
        "id": "T9e3wDov6R3M",
        "colab_type": "text"
      },
      "source": [
        "Triple quoted strings are best used for documentation. But they are useful for storing long strings.\n",
        " * We can use single or double quotes\n",
        " * We can also use single quotes or dowuble quotes within\n",
        " * The line breaks etc are captured; that is there is no need for \\n"
      ]
    },
    {
      "cell_type": "code",
      "metadata": {
        "id": "gHz79V3G6R3P",
        "colab_type": "code",
        "outputId": "fa3ef8bf-bba4-4697-8c95-352d258e5165",
        "colab": {
          "base_uri": "https://localhost:8080/",
          "height": 251
        }
      },
      "source": [
        "story = \"\"\"A long time ago, in a galaxy far far away ...\n",
        "\n",
        "It is a period of civil war. Rebel spaceships, striking \n",
        "from a hidden base, have won their first victory against \n",
        "the evil Galactic Empire.\n",
        "\n",
        "During the battle, Rebel spies managed to steal secret \n",
        "plans to the Empire's ultimate weapon, the DEATH STAR, \n",
        "an armored space station with enough power to destroy an entire planet.\n",
        "\n",
        "Pursued by the Empire's sinister agents, Princess Leia \n",
        "races home aboard her starship, custodian of the stolen \n",
        "plans that can save her people and restore freedom to the galaxy....\"\"\"\n",
        "print(story)"
      ],
      "execution_count": 0,
      "outputs": [
        {
          "output_type": "stream",
          "text": [
            "A long time ago, in a galaxy far far away ...\n",
            "\n",
            "It is a period of civil war. Rebel spaceships, striking \n",
            "from a hidden base, have won their first victory against \n",
            "the evil Galactic Empire.\n",
            "\n",
            "During the battle, Rebel spies managed to steal secret \n",
            "plans to the Empire's ultimate weapon, the DEATH STAR, \n",
            "an armored space station with enough power to destroy an entire planet.\n",
            "\n",
            "Pursued by the Empire's sinister agents, Princess Leia \n",
            "races home aboard her starship, custodian of the stolen \n",
            "plans that can save her people and restore freedom to the galaxy....\n"
          ],
          "name": "stdout"
        }
      ]
    },
    {
      "cell_type": "markdown",
      "metadata": {
        "id": "YEXtThZIX0SA",
        "colab_type": "text"
      },
      "source": [
        "##### Simple string operations\n",
        " * Concatnate by +, \n",
        " * multiple concatenation by * \n",
        " * check for substring with **in**\n",
        " * determine the size (number of characters) using *len*"
      ]
    },
    {
      "cell_type": "code",
      "metadata": {
        "id": "Bin4e9DD6R3Y",
        "colab_type": "code",
        "outputId": "4f1af690-53eb-49cd-b806-ff20f92c7298",
        "colab": {
          "base_uri": "https://localhost:8080/",
          "height": 136
        }
      },
      "source": [
        "h = \"Hello\"\n",
        "w = \"world!\"\n",
        "hw = h + w\n",
        "print(hw)\n",
        "hsw = h + ' ' + w\n",
        "print(hsw)\n",
        "h4s3w2 = 4 * h + \" \" * 3 + w * 2\n",
        "print(h4s3w2)\n",
        "print(h in hsw)\n",
        "print(' ' in hw)\n",
        "print(len(h4s3w2))\n",
        "hw"
      ],
      "execution_count": 0,
      "outputs": [
        {
          "output_type": "stream",
          "text": [
            "Helloworld!\n",
            "Hello world!\n",
            "HelloHelloHelloHello   world!world!\n",
            "True\n",
            "False\n",
            "35\n"
          ],
          "name": "stdout"
        },
        {
          "output_type": "execute_result",
          "data": {
            "text/plain": [
              "'Helloworld!'"
            ]
          },
          "metadata": {
            "tags": []
          },
          "execution_count": 11
        }
      ]
    },
    {
      "cell_type": "code",
      "metadata": {
        "id": "ENl3ZYsWfJi4",
        "colab_type": "code",
        "colab": {}
      },
      "source": [
        ""
      ],
      "execution_count": 0,
      "outputs": []
    },
    {
      "cell_type": "markdown",
      "metadata": {
        "id": "o1YBOu2v6R3f",
        "colab_type": "text"
      },
      "source": [
        "#### Lists\n",
        "Let us take a look at lists. A list is a collection of things, enclosed in [] and separated by commas. A list is heterogenous; that is the data types of the things need not be the same."
      ]
    },
    {
      "cell_type": "code",
      "metadata": {
        "id": "RKbOr8eM6R3h",
        "colab_type": "code",
        "outputId": "eaf422a2-0970-44e4-ec4d-5cbc8cc12c4f",
        "colab": {
          "base_uri": "https://localhost:8080/",
          "height": 153
        }
      },
      "source": [
        "f = [1, 1, 2, 3, 5, 8]\n",
        "p = [2, 3, 5, 7]\n",
        "grading = [\"Tests\", \"Quizzes\", \"Individual Labs\", \"Group Labs\", \"Hackathons\"]\n",
        "grades = [300, 60, 120, 60, 120]\n",
        "oddjob = [1, 5.6, True, 4-7j, \"Hello\", [1, 2], [3.9, \"World\"]]\n",
        "for i,num in enumerate(f):\n",
        "  print(i,num)\n",
        "print(p[::-1])\n",
        "p = p.append(10)\n",
        "print(p)"
      ],
      "execution_count": 0,
      "outputs": [
        {
          "output_type": "stream",
          "text": [
            "0 1\n",
            "1 1\n",
            "2 2\n",
            "3 3\n",
            "4 5\n",
            "5 8\n",
            "[7, 5, 3, 2]\n",
            "None\n"
          ],
          "name": "stdout"
        }
      ]
    },
    {
      "cell_type": "code",
      "metadata": {
        "id": "qO7TKDYUXz_I",
        "colab_type": "code",
        "outputId": "3fcd3a6f-9fef-483a-bf57-a5d76c5ffcf9",
        "colab": {
          "base_uri": "https://localhost:8080/",
          "height": 35
        }
      },
      "source": [
        "print(len(grading))"
      ],
      "execution_count": 0,
      "outputs": [
        {
          "output_type": "stream",
          "text": [
            "5\n"
          ],
          "name": "stdout"
        }
      ]
    },
    {
      "cell_type": "code",
      "metadata": {
        "id": "KY34LciJ6R3y",
        "colab_type": "code",
        "outputId": "221815b5-3866-423f-8802-940a5bd69bb8",
        "colab": {
          "base_uri": "https://localhost:8080/",
          "height": 53
        }
      },
      "source": [
        "# We access individual elements using the index\n",
        "# The first element is at index 0\n",
        "print(grades[1], oddjob[4])\n",
        "# We access the elements from the back using negative indices\n",
        "# -1 is the last, -2 is the last but one and so on\n",
        "print(grading[-1], grading[-3])"
      ],
      "execution_count": 0,
      "outputs": [
        {
          "output_type": "stream",
          "text": [
            "60 Hello\n",
            "Hackathons Individual Labs\n"
          ],
          "name": "stdout"
        }
      ]
    },
    {
      "cell_type": "code",
      "metadata": {
        "id": "nvc_UX5DXUvS",
        "colab_type": "code",
        "outputId": "5ec4d272-8e26-439e-db83-0276b17e7c06",
        "colab": {
          "base_uri": "https://localhost:8080/",
          "height": 35
        }
      },
      "source": [
        "print(sum(f), sum(p))"
      ],
      "execution_count": 0,
      "outputs": [
        {
          "output_type": "stream",
          "text": [
            "20 17\n"
          ],
          "name": "stdout"
        }
      ]
    },
    {
      "cell_type": "code",
      "metadata": {
        "id": "c1CQj0qfX9rS",
        "colab_type": "code",
        "outputId": "d192e9e9-e440-4c67-a4f4-377c5b06017f",
        "colab": {
          "base_uri": "https://localhost:8080/",
          "height": 35
        }
      },
      "source": [
        "print(max(grades), min(grades))"
      ],
      "execution_count": 0,
      "outputs": [
        {
          "output_type": "stream",
          "text": [
            "300 60\n"
          ],
          "name": "stdout"
        }
      ]
    },
    {
      "cell_type": "markdown",
      "metadata": {
        "id": "rp56AiOF6R4I",
        "colab_type": "text"
      },
      "source": [
        "#### For\n",
        "We can step through the items in a collection, such as a list or string (and many others) using **for**"
      ]
    },
    {
      "cell_type": "code",
      "metadata": {
        "id": "KXEwDe6eYAyK",
        "colab_type": "code",
        "outputId": "6653294b-885a-44b7-a235-722301133247",
        "colab": {
          "base_uri": "https://localhost:8080/",
          "height": 125
        }
      },
      "source": [
        "for num in f:\n",
        "    print(num)"
      ],
      "execution_count": 0,
      "outputs": [
        {
          "output_type": "stream",
          "text": [
            "1\n",
            "1\n",
            "2\n",
            "3\n",
            "5\n",
            "8\n"
          ],
          "name": "stdout"
        }
      ]
    },
    {
      "cell_type": "markdown",
      "metadata": {
        "id": "YhLhMcQjYKlo",
        "colab_type": "text"
      },
      "source": [
        "for test in grading:\n",
        "    print(test)"
      ]
    },
    {
      "cell_type": "markdown",
      "metadata": {
        "id": "jJQ3_fHt6R4W",
        "colab_type": "text"
      },
      "source": [
        "Note the absence of the usual *index* variable etc. We can step through the characters in a string the same way"
      ]
    },
    {
      "cell_type": "code",
      "metadata": {
        "id": "OjHy3Lej6R4Z",
        "colab_type": "code",
        "outputId": "515f5292-372a-448a-a193-8dfc9c3a5954",
        "colab": {
          "base_uri": "https://localhost:8080/",
          "height": 107
        }
      },
      "source": [
        "for ch in \"Hello\":\n",
        "    print(ch)"
      ],
      "execution_count": 0,
      "outputs": [
        {
          "output_type": "stream",
          "text": [
            "H\n",
            "e\n",
            "l\n",
            "l\n",
            "o\n"
          ],
          "name": "stdout"
        }
      ]
    },
    {
      "cell_type": "code",
      "metadata": {
        "id": "rrfZ6AHJYGUq",
        "colab_type": "code",
        "colab": {}
      },
      "source": [
        "#### List methods"
      ],
      "execution_count": 0,
      "outputs": []
    },
    {
      "cell_type": "code",
      "metadata": {
        "id": "g0NYrdIcYSnS",
        "colab_type": "code",
        "outputId": "cfe642e8-b06b-419a-e09a-1585019e702a",
        "colab": {
          "base_uri": "https://localhost:8080/",
          "height": 35
        }
      },
      "source": [
        "print(f)"
      ],
      "execution_count": 0,
      "outputs": [
        {
          "output_type": "stream",
          "text": [
            "[1, 1, 2, 3, 5, 8]\n"
          ],
          "name": "stdout"
        }
      ]
    },
    {
      "cell_type": "code",
      "metadata": {
        "id": "etnU-RY7Y35i",
        "colab_type": "code",
        "outputId": "85666d47-72a6-48e0-a6ae-0efb0e9738b3",
        "colab": {
          "base_uri": "https://localhost:8080/",
          "height": 34
        }
      },
      "source": [
        "f.append(13)\n",
        "print(f)"
      ],
      "execution_count": 0,
      "outputs": [
        {
          "output_type": "stream",
          "text": [
            "[1, 1, 2, 3, 5, 8, 13]\n"
          ],
          "name": "stdout"
        }
      ]
    },
    {
      "cell_type": "code",
      "metadata": {
        "id": "-GffS_CxZ27-",
        "colab_type": "code",
        "outputId": "49517805-20bf-469a-b007-90e685ffea4d",
        "colab": {
          "base_uri": "https://localhost:8080/",
          "height": 34
        }
      },
      "source": [
        "f.extend([21, 34, 55, 89])\n",
        "print(f)"
      ],
      "execution_count": 0,
      "outputs": [
        {
          "output_type": "stream",
          "text": [
            "[1, 1, 2, 3, 5, 8, 13, 21, 34, 55, 89]\n"
          ],
          "name": "stdout"
        }
      ]
    },
    {
      "cell_type": "code",
      "metadata": {
        "id": "aPuIEVEQZC2k",
        "colab_type": "code",
        "outputId": "2b226cf3-ffa0-494c-f57b-177b204091c1",
        "colab": {
          "base_uri": "https://localhost:8080/",
          "height": 180
        }
      },
      "source": [
        "p = p + [11, 13, 17, 19]\n",
        "print(p)"
      ],
      "execution_count": 0,
      "outputs": [
        {
          "output_type": "error",
          "ename": "TypeError",
          "evalue": "ignored",
          "traceback": [
            "\u001b[0;31m---------------------------------------------------------------------------\u001b[0m",
            "\u001b[0;31mTypeError\u001b[0m                                 Traceback (most recent call last)",
            "\u001b[0;32m<ipython-input-37-4df34a099672>\u001b[0m in \u001b[0;36m<module>\u001b[0;34m()\u001b[0m\n\u001b[0;32m----> 1\u001b[0;31m \u001b[0mp\u001b[0m \u001b[0;34m=\u001b[0m \u001b[0mp\u001b[0m \u001b[0;34m+\u001b[0m \u001b[0;34m[\u001b[0m\u001b[0;36m11\u001b[0m\u001b[0;34m,\u001b[0m \u001b[0;36m13\u001b[0m\u001b[0;34m,\u001b[0m \u001b[0;36m17\u001b[0m\u001b[0;34m,\u001b[0m \u001b[0;36m19\u001b[0m\u001b[0;34m]\u001b[0m\u001b[0;34m\u001b[0m\u001b[0m\n\u001b[0m\u001b[1;32m      2\u001b[0m \u001b[0mprint\u001b[0m\u001b[0;34m(\u001b[0m\u001b[0mp\u001b[0m\u001b[0;34m)\u001b[0m\u001b[0;34m\u001b[0m\u001b[0m\n",
            "\u001b[0;31mTypeError\u001b[0m: unsupported operand type(s) for +: 'NoneType' and 'list'"
          ]
        }
      ]
    },
    {
      "cell_type": "markdown",
      "metadata": {
        "id": "wVSIgk_mZjli",
        "colab_type": "text"
      },
      "source": [
        "#### Slicing\n",
        "We can get substrings and sublists using a slice"
      ]
    },
    {
      "cell_type": "code",
      "metadata": {
        "id": "_24F0GauZf4s",
        "colab_type": "code",
        "outputId": "931d6ace-4a27-448d-cf8e-aac0866fcdfe",
        "colab": {
          "base_uri": "https://localhost:8080/",
          "height": 107
        }
      },
      "source": [
        "print(f)\n",
        "print(f[2:7])\n",
        "print(f[2:11:3])\n",
        "print(p)\n",
        "print(p[::-1])"
      ],
      "execution_count": 0,
      "outputs": [
        {
          "output_type": "stream",
          "text": [
            "[1, 1, 2, 3, 5, 8, 13, 21, 34, 55, 89]\n",
            "[2, 3, 5, 8, 13]\n",
            "[2, 8, 34]\n",
            "[2, 3, 5, 7, 11, 13, 17, 19]\n",
            "[19, 17, 13, 11, 7, 5, 3, 2]\n"
          ],
          "name": "stdout"
        }
      ]
    },
    {
      "cell_type": "code",
      "metadata": {
        "id": "joopNHQdZpX8",
        "colab_type": "code",
        "outputId": "59ecbebd-2868-4f5b-ea3e-19ac82dc5e46",
        "colab": {
          "base_uri": "https://localhost:8080/",
          "height": 85
        }
      },
      "source": [
        "# We can slice strings too\n",
        "print(h4s3w2[11:26])\n",
        "print(hsw[2::3])\n",
        "print(hw[::-1])\n",
        "type(hw)\n"
      ],
      "execution_count": 0,
      "outputs": [
        {
          "output_type": "stream",
          "text": [
            "elloHello   wor\n",
            "l r!\n",
            "!dlrowolleH\n"
          ],
          "name": "stdout"
        },
        {
          "output_type": "execute_result",
          "data": {
            "text/plain": [
              "str"
            ]
          },
          "metadata": {
            "tags": []
          },
          "execution_count": 33
        }
      ]
    },
    {
      "cell_type": "code",
      "metadata": {
        "id": "eYYRwjqnluMk",
        "colab_type": "code",
        "outputId": "835f7813-e58b-4437-a455-361f19e71eed",
        "colab": {
          "base_uri": "https://localhost:8080/",
          "height": 34
        }
      },
      "source": [
        "7+ 5j\n"
      ],
      "execution_count": 0,
      "outputs": [
        {
          "output_type": "execute_result",
          "data": {
            "text/plain": [
              "(7+5j)"
            ]
          },
          "metadata": {
            "tags": []
          },
          "execution_count": 34
        }
      ]
    },
    {
      "cell_type": "markdown",
      "metadata": {
        "id": "aY0i-4SzMc8h",
        "colab_type": "text"
      },
      "source": [
        "### Please answer the questions below to complete the experiment:"
      ]
    },
    {
      "cell_type": "code",
      "metadata": {
        "id": "x0W1lEqj6R51",
        "colab_type": "code",
        "colab": {}
      },
      "source": [
        "#@title How was the experiment? { run: \"auto\", form-width: \"500px\", display-mode: \"form\" }\n",
        "Complexity = \"\" #@param [\"Too Simple, I am wasting time\", \"Good, But Not Challenging for me\", \"Good and Challenging me\", \"Was Tough, but I did it\", \"Too Difficult for me\"]\n"
      ],
      "execution_count": 0,
      "outputs": []
    },
    {
      "cell_type": "code",
      "metadata": {
        "id": "5bkmbdjD6R57",
        "colab_type": "code",
        "colab": {}
      },
      "source": [
        "#@title If it was very easy, what more you would have liked to have been added? If it was very difficult, what would you have liked to have been removed? { run: \"auto\", display-mode: \"form\" }\n",
        "Additional = \"\" #@param {type:\"string\"}"
      ],
      "execution_count": 0,
      "outputs": []
    },
    {
      "cell_type": "code",
      "metadata": {
        "id": "x7Zpw6pd6R6B",
        "colab_type": "code",
        "colab": {}
      },
      "source": [
        "#@title Can you identify the concepts from the lecture which this experiment covered? { run: \"auto\", vertical-output: true, display-mode: \"form\" }\n",
        "Concepts = \"Yes\" #@param [\"Yes\", \"No\"]"
      ],
      "execution_count": 0,
      "outputs": []
    },
    {
      "cell_type": "code",
      "metadata": {
        "id": "qcNcq56g7Gh_",
        "colab_type": "code",
        "cellView": "form",
        "colab": {}
      },
      "source": [
        "#@title Run this cell to submit your notebook for grading { vertical-output: true }\n",
        "try:\n",
        "  if submission_id:\n",
        "      return_id = submit_notebook()\n",
        "      if return_id : submission_id =return_id\n",
        "  else:\n",
        "      print(\"Please complete the setup first.\")\n",
        "except NameError:\n",
        "  print (\"Please complete the setup first.\")"
      ],
      "execution_count": 0,
      "outputs": []
    }
  ]
}